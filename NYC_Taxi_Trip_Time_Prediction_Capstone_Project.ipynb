{
  "nbformat": 4,
  "nbformat_minor": 0,
  "metadata": {
    "kernelspec": {
      "display_name": "Python 3",
      "language": "python",
      "name": "python3"
    },
    "language_info": {
      "codemirror_mode": {
        "name": "ipython",
        "version": 3
      },
      "file_extension": ".py",
      "mimetype": "text/x-python",
      "name": "python",
      "nbconvert_exporter": "python",
      "pygments_lexer": "ipython3",
      "version": "3.6.6"
    },
    "colab": {
      "name": "NYC Taxi Trip Time Prediction - Capstone Project.ipynb",
      "provenance": [],
      "collapsed_sections": [],
      "include_colab_link": true
    }
  },
  "cells": [
    {
      "cell_type": "markdown",
      "metadata": {
        "id": "view-in-github",
        "colab_type": "text"
      },
      "source": [
        "<a href=\"https://colab.research.google.com/github/pranay2310/AirBnB-bookings-Analysis/blob/main/NYC_Taxi_Trip_Time_Prediction_Capstone_Project.ipynb\" target=\"_parent\"><img src=\"https://colab.research.google.com/assets/colab-badge.svg\" alt=\"Open In Colab\"/></a>"
      ]
    },
    {
      "cell_type": "markdown",
      "metadata": {
        "id": "tOGC-qoyhJeX"
      },
      "source": [
        "# <b><u> Project Title : Taxi trip time Prediction : Predicting total ride duration of taxi trips in New York City</u></b>"
      ]
    },
    {
      "cell_type": "markdown",
      "metadata": {
        "id": "Y06xIdG26kRF"
      },
      "source": [
        "## <b> Problem Description </b>\n",
        "\n",
        "### Your task is to build a model that predicts the total ride duration of taxi trips in New York City. Your primary dataset is one released by the NYC Taxi and Limousine Commission, which includes pickup time, geo-coordinates, number of passengers, and several other variables."
      ]
    },
    {
      "cell_type": "markdown",
      "metadata": {
        "id": "WWeU1f9bwqQq"
      },
      "source": [
        "## <b> Data Description </b>\n",
        "\n",
        "### The dataset is based on the 2016 NYC Yellow Cab trip record data made available in Big Query on Google Cloud Platform. The data was originally published by the NYC Taxi and Limousine Commission (TLC). The data was sampled and cleaned for the purposes of this project. Based on individual trip attributes, you should predict the duration of each trip in the test set.\n",
        "\n",
        "### <b>NYC Taxi Data.csv</b> - the training set (contains 1458644 trip records)\n",
        "\n",
        "\n",
        "### Data fields\n",
        "* #### id - a unique identifier for each trip\n",
        "* #### vendor_id - a code indicating the provider associated with the trip record\n",
        "* #### pickup_datetime - date and time when the meter was engaged\n",
        "* #### dropoff_datetime - date and time when the meter was disengaged\n",
        "* #### passenger_count - the number of passengers in the vehicle (driver entered value)\n",
        "* #### pickup_longitude - the longitude where the meter was engaged\n",
        "* #### pickup_latitude - the latitude where the meter was engaged\n",
        "* #### dropoff_longitude - the longitude where the meter was disengaged\n",
        "* #### dropoff_latitude - the latitude where the meter was disengaged\n",
        "* #### store_and_fwd_flag - This flag indicates whether the trip record was held in vehicle memory before sending to the vendor because the vehicle did not have a connection to the server - Y=store and forward; N=not a store and forward trip\n",
        "* #### trip_duration - duration of the trip in seconds"
      ]
    },
    {
      "cell_type": "markdown",
      "source": [
        "#Data preprocessing"
      ],
      "metadata": {
        "id": "3OjaztMva6H-"
      }
    },
    {
      "cell_type": "code",
      "source": [
        "from google.colab import drive\n",
        "drive.mount('/content/drive')"
      ],
      "metadata": {
        "id": "1r4zr84cbALW",
        "colab": {
          "base_uri": "https://localhost:8080/"
        },
        "outputId": "cf089f44-1644-445f-a1db-f6a56e04c61a"
      },
      "execution_count": 1,
      "outputs": [
        {
          "output_type": "stream",
          "name": "stdout",
          "text": [
            "Mounted at /content/drive\n"
          ]
        }
      ]
    },
    {
      "cell_type": "code",
      "source": [
        "import pandas as pd\n",
        "import numpy as np\n",
        "import matplotlib.pyplot as plt\n",
        "import datetime as dt\n",
        "import seaborn as sns\n",
        "from sklearn import preprocessing\n",
        "import math"
      ],
      "metadata": {
        "id": "zLlHY2OGbVmO"
      },
      "execution_count": 2,
      "outputs": []
    },
    {
      "cell_type": "code",
      "source": [
        "#load NYC Taxi trip time dataset\n",
        "data = pd.read_csv('/content/drive/MyDrive/Copy of NYC_Taxi_Data.csv')\n",
        "data.head()"
      ],
      "metadata": {
        "id": "4SEhcT8MbWRu",
        "colab": {
          "base_uri": "https://localhost:8080/",
          "height": 206
        },
        "outputId": "13ffef17-01d5-46dd-9ac7-2fadedb20d39"
      },
      "execution_count": 3,
      "outputs": [
        {
          "output_type": "execute_result",
          "data": {
            "text/plain": [
              "          id  vendor_id      pickup_datetime     dropoff_datetime  \\\n",
              "0  id2875421          2  2016-03-14 17:24:55  2016-03-14 17:32:30   \n",
              "1  id2377394          1  2016-06-12 00:43:35  2016-06-12 00:54:38   \n",
              "2  id3858529          2  2016-01-19 11:35:24  2016-01-19 12:10:48   \n",
              "3  id3504673          2  2016-04-06 19:32:31  2016-04-06 19:39:40   \n",
              "4  id2181028          2  2016-03-26 13:30:55  2016-03-26 13:38:10   \n",
              "\n",
              "   passenger_count  pickup_longitude  pickup_latitude  dropoff_longitude  \\\n",
              "0                1        -73.982155        40.767937         -73.964630   \n",
              "1                1        -73.980415        40.738564         -73.999481   \n",
              "2                1        -73.979027        40.763939         -74.005333   \n",
              "3                1        -74.010040        40.719971         -74.012268   \n",
              "4                1        -73.973053        40.793209         -73.972923   \n",
              "\n",
              "   dropoff_latitude store_and_fwd_flag  trip_duration  \n",
              "0         40.765602                  N            455  \n",
              "1         40.731152                  N            663  \n",
              "2         40.710087                  N           2124  \n",
              "3         40.706718                  N            429  \n",
              "4         40.782520                  N            435  "
            ],
            "text/html": [
              "\n",
              "  <div id=\"df-a084bcd3-d1ea-4751-8df3-e47b8f58388a\">\n",
              "    <div class=\"colab-df-container\">\n",
              "      <div>\n",
              "<style scoped>\n",
              "    .dataframe tbody tr th:only-of-type {\n",
              "        vertical-align: middle;\n",
              "    }\n",
              "\n",
              "    .dataframe tbody tr th {\n",
              "        vertical-align: top;\n",
              "    }\n",
              "\n",
              "    .dataframe thead th {\n",
              "        text-align: right;\n",
              "    }\n",
              "</style>\n",
              "<table border=\"1\" class=\"dataframe\">\n",
              "  <thead>\n",
              "    <tr style=\"text-align: right;\">\n",
              "      <th></th>\n",
              "      <th>id</th>\n",
              "      <th>vendor_id</th>\n",
              "      <th>pickup_datetime</th>\n",
              "      <th>dropoff_datetime</th>\n",
              "      <th>passenger_count</th>\n",
              "      <th>pickup_longitude</th>\n",
              "      <th>pickup_latitude</th>\n",
              "      <th>dropoff_longitude</th>\n",
              "      <th>dropoff_latitude</th>\n",
              "      <th>store_and_fwd_flag</th>\n",
              "      <th>trip_duration</th>\n",
              "    </tr>\n",
              "  </thead>\n",
              "  <tbody>\n",
              "    <tr>\n",
              "      <th>0</th>\n",
              "      <td>id2875421</td>\n",
              "      <td>2</td>\n",
              "      <td>2016-03-14 17:24:55</td>\n",
              "      <td>2016-03-14 17:32:30</td>\n",
              "      <td>1</td>\n",
              "      <td>-73.982155</td>\n",
              "      <td>40.767937</td>\n",
              "      <td>-73.964630</td>\n",
              "      <td>40.765602</td>\n",
              "      <td>N</td>\n",
              "      <td>455</td>\n",
              "    </tr>\n",
              "    <tr>\n",
              "      <th>1</th>\n",
              "      <td>id2377394</td>\n",
              "      <td>1</td>\n",
              "      <td>2016-06-12 00:43:35</td>\n",
              "      <td>2016-06-12 00:54:38</td>\n",
              "      <td>1</td>\n",
              "      <td>-73.980415</td>\n",
              "      <td>40.738564</td>\n",
              "      <td>-73.999481</td>\n",
              "      <td>40.731152</td>\n",
              "      <td>N</td>\n",
              "      <td>663</td>\n",
              "    </tr>\n",
              "    <tr>\n",
              "      <th>2</th>\n",
              "      <td>id3858529</td>\n",
              "      <td>2</td>\n",
              "      <td>2016-01-19 11:35:24</td>\n",
              "      <td>2016-01-19 12:10:48</td>\n",
              "      <td>1</td>\n",
              "      <td>-73.979027</td>\n",
              "      <td>40.763939</td>\n",
              "      <td>-74.005333</td>\n",
              "      <td>40.710087</td>\n",
              "      <td>N</td>\n",
              "      <td>2124</td>\n",
              "    </tr>\n",
              "    <tr>\n",
              "      <th>3</th>\n",
              "      <td>id3504673</td>\n",
              "      <td>2</td>\n",
              "      <td>2016-04-06 19:32:31</td>\n",
              "      <td>2016-04-06 19:39:40</td>\n",
              "      <td>1</td>\n",
              "      <td>-74.010040</td>\n",
              "      <td>40.719971</td>\n",
              "      <td>-74.012268</td>\n",
              "      <td>40.706718</td>\n",
              "      <td>N</td>\n",
              "      <td>429</td>\n",
              "    </tr>\n",
              "    <tr>\n",
              "      <th>4</th>\n",
              "      <td>id2181028</td>\n",
              "      <td>2</td>\n",
              "      <td>2016-03-26 13:30:55</td>\n",
              "      <td>2016-03-26 13:38:10</td>\n",
              "      <td>1</td>\n",
              "      <td>-73.973053</td>\n",
              "      <td>40.793209</td>\n",
              "      <td>-73.972923</td>\n",
              "      <td>40.782520</td>\n",
              "      <td>N</td>\n",
              "      <td>435</td>\n",
              "    </tr>\n",
              "  </tbody>\n",
              "</table>\n",
              "</div>\n",
              "      <button class=\"colab-df-convert\" onclick=\"convertToInteractive('df-a084bcd3-d1ea-4751-8df3-e47b8f58388a')\"\n",
              "              title=\"Convert this dataframe to an interactive table.\"\n",
              "              style=\"display:none;\">\n",
              "        \n",
              "  <svg xmlns=\"http://www.w3.org/2000/svg\" height=\"24px\"viewBox=\"0 0 24 24\"\n",
              "       width=\"24px\">\n",
              "    <path d=\"M0 0h24v24H0V0z\" fill=\"none\"/>\n",
              "    <path d=\"M18.56 5.44l.94 2.06.94-2.06 2.06-.94-2.06-.94-.94-2.06-.94 2.06-2.06.94zm-11 1L8.5 8.5l.94-2.06 2.06-.94-2.06-.94L8.5 2.5l-.94 2.06-2.06.94zm10 10l.94 2.06.94-2.06 2.06-.94-2.06-.94-.94-2.06-.94 2.06-2.06.94z\"/><path d=\"M17.41 7.96l-1.37-1.37c-.4-.4-.92-.59-1.43-.59-.52 0-1.04.2-1.43.59L10.3 9.45l-7.72 7.72c-.78.78-.78 2.05 0 2.83L4 21.41c.39.39.9.59 1.41.59.51 0 1.02-.2 1.41-.59l7.78-7.78 2.81-2.81c.8-.78.8-2.07 0-2.86zM5.41 20L4 18.59l7.72-7.72 1.47 1.35L5.41 20z\"/>\n",
              "  </svg>\n",
              "      </button>\n",
              "      \n",
              "  <style>\n",
              "    .colab-df-container {\n",
              "      display:flex;\n",
              "      flex-wrap:wrap;\n",
              "      gap: 12px;\n",
              "    }\n",
              "\n",
              "    .colab-df-convert {\n",
              "      background-color: #E8F0FE;\n",
              "      border: none;\n",
              "      border-radius: 50%;\n",
              "      cursor: pointer;\n",
              "      display: none;\n",
              "      fill: #1967D2;\n",
              "      height: 32px;\n",
              "      padding: 0 0 0 0;\n",
              "      width: 32px;\n",
              "    }\n",
              "\n",
              "    .colab-df-convert:hover {\n",
              "      background-color: #E2EBFA;\n",
              "      box-shadow: 0px 1px 2px rgba(60, 64, 67, 0.3), 0px 1px 3px 1px rgba(60, 64, 67, 0.15);\n",
              "      fill: #174EA6;\n",
              "    }\n",
              "\n",
              "    [theme=dark] .colab-df-convert {\n",
              "      background-color: #3B4455;\n",
              "      fill: #D2E3FC;\n",
              "    }\n",
              "\n",
              "    [theme=dark] .colab-df-convert:hover {\n",
              "      background-color: #434B5C;\n",
              "      box-shadow: 0px 1px 3px 1px rgba(0, 0, 0, 0.15);\n",
              "      filter: drop-shadow(0px 1px 2px rgba(0, 0, 0, 0.3));\n",
              "      fill: #FFFFFF;\n",
              "    }\n",
              "  </style>\n",
              "\n",
              "      <script>\n",
              "        const buttonEl =\n",
              "          document.querySelector('#df-a084bcd3-d1ea-4751-8df3-e47b8f58388a button.colab-df-convert');\n",
              "        buttonEl.style.display =\n",
              "          google.colab.kernel.accessAllowed ? 'block' : 'none';\n",
              "\n",
              "        async function convertToInteractive(key) {\n",
              "          const element = document.querySelector('#df-a084bcd3-d1ea-4751-8df3-e47b8f58388a');\n",
              "          const dataTable =\n",
              "            await google.colab.kernel.invokeFunction('convertToInteractive',\n",
              "                                                     [key], {});\n",
              "          if (!dataTable) return;\n",
              "\n",
              "          const docLinkHtml = 'Like what you see? Visit the ' +\n",
              "            '<a target=\"_blank\" href=https://colab.research.google.com/notebooks/data_table.ipynb>data table notebook</a>'\n",
              "            + ' to learn more about interactive tables.';\n",
              "          element.innerHTML = '';\n",
              "          dataTable['output_type'] = 'display_data';\n",
              "          await google.colab.output.renderOutput(dataTable, element);\n",
              "          const docLink = document.createElement('div');\n",
              "          docLink.innerHTML = docLinkHtml;\n",
              "          element.appendChild(docLink);\n",
              "        }\n",
              "      </script>\n",
              "    </div>\n",
              "  </div>\n",
              "  "
            ]
          },
          "metadata": {},
          "execution_count": 3
        }
      ]
    },
    {
      "cell_type": "code",
      "source": [
        "data.info()"
      ],
      "metadata": {
        "id": "fCvQsTMCbdlD",
        "colab": {
          "base_uri": "https://localhost:8080/"
        },
        "outputId": "1be18d73-6420-44c1-bdf8-4635fa2fa9f1"
      },
      "execution_count": 4,
      "outputs": [
        {
          "output_type": "stream",
          "name": "stdout",
          "text": [
            "<class 'pandas.core.frame.DataFrame'>\n",
            "RangeIndex: 1458644 entries, 0 to 1458643\n",
            "Data columns (total 11 columns):\n",
            " #   Column              Non-Null Count    Dtype  \n",
            "---  ------              --------------    -----  \n",
            " 0   id                  1458644 non-null  object \n",
            " 1   vendor_id           1458644 non-null  int64  \n",
            " 2   pickup_datetime     1458644 non-null  object \n",
            " 3   dropoff_datetime    1458644 non-null  object \n",
            " 4   passenger_count     1458644 non-null  int64  \n",
            " 5   pickup_longitude    1458644 non-null  float64\n",
            " 6   pickup_latitude     1458644 non-null  float64\n",
            " 7   dropoff_longitude   1458644 non-null  float64\n",
            " 8   dropoff_latitude    1458644 non-null  float64\n",
            " 9   store_and_fwd_flag  1458644 non-null  object \n",
            " 10  trip_duration       1458644 non-null  int64  \n",
            "dtypes: float64(4), int64(3), object(4)\n",
            "memory usage: 122.4+ MB\n"
          ]
        }
      ]
    },
    {
      "cell_type": "code",
      "source": [
        "data['pickup_datetime'] = pd.to_datetime(data['pickup_datetime'])\n",
        "data['dropoff_datetime'] = pd.to_datetime(data['dropoff_datetime'])"
      ],
      "metadata": {
        "id": "occl0QRzfHiS"
      },
      "execution_count": 5,
      "outputs": []
    },
    {
      "cell_type": "code",
      "source": [
        "data.describe().apply(lambda s: s.apply(lambda x: format(x, 'g'))) # to change scientific value to count value"
      ],
      "metadata": {
        "id": "8efEkELVfcUH",
        "colab": {
          "base_uri": "https://localhost:8080/",
          "height": 300
        },
        "outputId": "e24235de-4763-4776-c2a3-086c490c0583"
      },
      "execution_count": 6,
      "outputs": [
        {
          "output_type": "execute_result",
          "data": {
            "text/plain": [
              "         vendor_id passenger_count pickup_longitude pickup_latitude  \\\n",
              "count  1.45864e+06     1.45864e+06      1.45864e+06     1.45864e+06   \n",
              "mean       1.53495         1.66453         -73.9735         40.7509   \n",
              "std       0.498777         1.31424        0.0709019       0.0328812   \n",
              "min              1               0         -121.933         34.3597   \n",
              "25%              1               1         -73.9919         40.7373   \n",
              "50%              2               1         -73.9817         40.7541   \n",
              "75%              2               2         -73.9673         40.7684   \n",
              "max              2               9         -61.3355         51.8811   \n",
              "\n",
              "      dropoff_longitude dropoff_latitude trip_duration  \n",
              "count       1.45864e+06      1.45864e+06   1.45864e+06  \n",
              "mean           -73.9734          40.7518       959.492  \n",
              "std           0.0706433        0.0358906       5237.43  \n",
              "min            -121.933          32.1811             1  \n",
              "25%            -73.9913          40.7359           397  \n",
              "50%            -73.9798          40.7545           662  \n",
              "75%             -73.963          40.7698          1075  \n",
              "max            -61.3355           43.921   3.52628e+06  "
            ],
            "text/html": [
              "\n",
              "  <div id=\"df-627a23ee-5a38-4902-b8da-73ef1ba95cb6\">\n",
              "    <div class=\"colab-df-container\">\n",
              "      <div>\n",
              "<style scoped>\n",
              "    .dataframe tbody tr th:only-of-type {\n",
              "        vertical-align: middle;\n",
              "    }\n",
              "\n",
              "    .dataframe tbody tr th {\n",
              "        vertical-align: top;\n",
              "    }\n",
              "\n",
              "    .dataframe thead th {\n",
              "        text-align: right;\n",
              "    }\n",
              "</style>\n",
              "<table border=\"1\" class=\"dataframe\">\n",
              "  <thead>\n",
              "    <tr style=\"text-align: right;\">\n",
              "      <th></th>\n",
              "      <th>vendor_id</th>\n",
              "      <th>passenger_count</th>\n",
              "      <th>pickup_longitude</th>\n",
              "      <th>pickup_latitude</th>\n",
              "      <th>dropoff_longitude</th>\n",
              "      <th>dropoff_latitude</th>\n",
              "      <th>trip_duration</th>\n",
              "    </tr>\n",
              "  </thead>\n",
              "  <tbody>\n",
              "    <tr>\n",
              "      <th>count</th>\n",
              "      <td>1.45864e+06</td>\n",
              "      <td>1.45864e+06</td>\n",
              "      <td>1.45864e+06</td>\n",
              "      <td>1.45864e+06</td>\n",
              "      <td>1.45864e+06</td>\n",
              "      <td>1.45864e+06</td>\n",
              "      <td>1.45864e+06</td>\n",
              "    </tr>\n",
              "    <tr>\n",
              "      <th>mean</th>\n",
              "      <td>1.53495</td>\n",
              "      <td>1.66453</td>\n",
              "      <td>-73.9735</td>\n",
              "      <td>40.7509</td>\n",
              "      <td>-73.9734</td>\n",
              "      <td>40.7518</td>\n",
              "      <td>959.492</td>\n",
              "    </tr>\n",
              "    <tr>\n",
              "      <th>std</th>\n",
              "      <td>0.498777</td>\n",
              "      <td>1.31424</td>\n",
              "      <td>0.0709019</td>\n",
              "      <td>0.0328812</td>\n",
              "      <td>0.0706433</td>\n",
              "      <td>0.0358906</td>\n",
              "      <td>5237.43</td>\n",
              "    </tr>\n",
              "    <tr>\n",
              "      <th>min</th>\n",
              "      <td>1</td>\n",
              "      <td>0</td>\n",
              "      <td>-121.933</td>\n",
              "      <td>34.3597</td>\n",
              "      <td>-121.933</td>\n",
              "      <td>32.1811</td>\n",
              "      <td>1</td>\n",
              "    </tr>\n",
              "    <tr>\n",
              "      <th>25%</th>\n",
              "      <td>1</td>\n",
              "      <td>1</td>\n",
              "      <td>-73.9919</td>\n",
              "      <td>40.7373</td>\n",
              "      <td>-73.9913</td>\n",
              "      <td>40.7359</td>\n",
              "      <td>397</td>\n",
              "    </tr>\n",
              "    <tr>\n",
              "      <th>50%</th>\n",
              "      <td>2</td>\n",
              "      <td>1</td>\n",
              "      <td>-73.9817</td>\n",
              "      <td>40.7541</td>\n",
              "      <td>-73.9798</td>\n",
              "      <td>40.7545</td>\n",
              "      <td>662</td>\n",
              "    </tr>\n",
              "    <tr>\n",
              "      <th>75%</th>\n",
              "      <td>2</td>\n",
              "      <td>2</td>\n",
              "      <td>-73.9673</td>\n",
              "      <td>40.7684</td>\n",
              "      <td>-73.963</td>\n",
              "      <td>40.7698</td>\n",
              "      <td>1075</td>\n",
              "    </tr>\n",
              "    <tr>\n",
              "      <th>max</th>\n",
              "      <td>2</td>\n",
              "      <td>9</td>\n",
              "      <td>-61.3355</td>\n",
              "      <td>51.8811</td>\n",
              "      <td>-61.3355</td>\n",
              "      <td>43.921</td>\n",
              "      <td>3.52628e+06</td>\n",
              "    </tr>\n",
              "  </tbody>\n",
              "</table>\n",
              "</div>\n",
              "      <button class=\"colab-df-convert\" onclick=\"convertToInteractive('df-627a23ee-5a38-4902-b8da-73ef1ba95cb6')\"\n",
              "              title=\"Convert this dataframe to an interactive table.\"\n",
              "              style=\"display:none;\">\n",
              "        \n",
              "  <svg xmlns=\"http://www.w3.org/2000/svg\" height=\"24px\"viewBox=\"0 0 24 24\"\n",
              "       width=\"24px\">\n",
              "    <path d=\"M0 0h24v24H0V0z\" fill=\"none\"/>\n",
              "    <path d=\"M18.56 5.44l.94 2.06.94-2.06 2.06-.94-2.06-.94-.94-2.06-.94 2.06-2.06.94zm-11 1L8.5 8.5l.94-2.06 2.06-.94-2.06-.94L8.5 2.5l-.94 2.06-2.06.94zm10 10l.94 2.06.94-2.06 2.06-.94-2.06-.94-.94-2.06-.94 2.06-2.06.94z\"/><path d=\"M17.41 7.96l-1.37-1.37c-.4-.4-.92-.59-1.43-.59-.52 0-1.04.2-1.43.59L10.3 9.45l-7.72 7.72c-.78.78-.78 2.05 0 2.83L4 21.41c.39.39.9.59 1.41.59.51 0 1.02-.2 1.41-.59l7.78-7.78 2.81-2.81c.8-.78.8-2.07 0-2.86zM5.41 20L4 18.59l7.72-7.72 1.47 1.35L5.41 20z\"/>\n",
              "  </svg>\n",
              "      </button>\n",
              "      \n",
              "  <style>\n",
              "    .colab-df-container {\n",
              "      display:flex;\n",
              "      flex-wrap:wrap;\n",
              "      gap: 12px;\n",
              "    }\n",
              "\n",
              "    .colab-df-convert {\n",
              "      background-color: #E8F0FE;\n",
              "      border: none;\n",
              "      border-radius: 50%;\n",
              "      cursor: pointer;\n",
              "      display: none;\n",
              "      fill: #1967D2;\n",
              "      height: 32px;\n",
              "      padding: 0 0 0 0;\n",
              "      width: 32px;\n",
              "    }\n",
              "\n",
              "    .colab-df-convert:hover {\n",
              "      background-color: #E2EBFA;\n",
              "      box-shadow: 0px 1px 2px rgba(60, 64, 67, 0.3), 0px 1px 3px 1px rgba(60, 64, 67, 0.15);\n",
              "      fill: #174EA6;\n",
              "    }\n",
              "\n",
              "    [theme=dark] .colab-df-convert {\n",
              "      background-color: #3B4455;\n",
              "      fill: #D2E3FC;\n",
              "    }\n",
              "\n",
              "    [theme=dark] .colab-df-convert:hover {\n",
              "      background-color: #434B5C;\n",
              "      box-shadow: 0px 1px 3px 1px rgba(0, 0, 0, 0.15);\n",
              "      filter: drop-shadow(0px 1px 2px rgba(0, 0, 0, 0.3));\n",
              "      fill: #FFFFFF;\n",
              "    }\n",
              "  </style>\n",
              "\n",
              "      <script>\n",
              "        const buttonEl =\n",
              "          document.querySelector('#df-627a23ee-5a38-4902-b8da-73ef1ba95cb6 button.colab-df-convert');\n",
              "        buttonEl.style.display =\n",
              "          google.colab.kernel.accessAllowed ? 'block' : 'none';\n",
              "\n",
              "        async function convertToInteractive(key) {\n",
              "          const element = document.querySelector('#df-627a23ee-5a38-4902-b8da-73ef1ba95cb6');\n",
              "          const dataTable =\n",
              "            await google.colab.kernel.invokeFunction('convertToInteractive',\n",
              "                                                     [key], {});\n",
              "          if (!dataTable) return;\n",
              "\n",
              "          const docLinkHtml = 'Like what you see? Visit the ' +\n",
              "            '<a target=\"_blank\" href=https://colab.research.google.com/notebooks/data_table.ipynb>data table notebook</a>'\n",
              "            + ' to learn more about interactive tables.';\n",
              "          element.innerHTML = '';\n",
              "          dataTable['output_type'] = 'display_data';\n",
              "          await google.colab.output.renderOutput(dataTable, element);\n",
              "          const docLink = document.createElement('div');\n",
              "          docLink.innerHTML = docLinkHtml;\n",
              "          element.appendChild(docLink);\n",
              "        }\n",
              "      </script>\n",
              "    </div>\n",
              "  </div>\n",
              "  "
            ]
          },
          "metadata": {},
          "execution_count": 6
        }
      ]
    },
    {
      "cell_type": "markdown",
      "source": [
        "Finding Distance by using pickup_lat,pickup_long,dropoff_lat,dropoff_long values"
      ],
      "metadata": {
        "id": "C6cdJlNDstKV"
      }
    },
    {
      "cell_type": "code",
      "source": [
        "from geopy.distance import great_circle"
      ],
      "metadata": {
        "id": "Y3_GnoGYgbdF"
      },
      "execution_count": 7,
      "outputs": []
    },
    {
      "cell_type": "code",
      "source": [
        "def find_distance(pickup_lat,pickup_long,dropoff_lat,dropoff_long):\n",
        " \n",
        " start=(pickup_lat,pickup_long)\n",
        " end=(dropoff_lat,dropoff_long)\n",
        " \n",
        " return great_circle(start,end).km"
      ],
      "metadata": {
        "id": "OZeDG8R8shNT"
      },
      "execution_count": 8,
      "outputs": []
    },
    {
      "cell_type": "code",
      "source": [
        "#finding distance travel in each trip\n",
        "data['distance'] = data.apply(lambda x: find_distance(x['pickup_latitude'],\n",
        "                                                      x['pickup_longitude'],\n",
        "                                                      x['dropoff_latitude'],\n",
        "                                                      x['dropoff_longitude'] ), axis=1)"
      ],
      "metadata": {
        "id": "iFnzh-bysylp"
      },
      "execution_count": 9,
      "outputs": []
    },
    {
      "cell_type": "markdown",
      "source": [
        "#feature creation"
      ],
      "metadata": {
        "id": "d9AwiHGvtKl0"
      }
    },
    {
      "cell_type": "markdown",
      "source": [
        "AVG SPEED OF VEHICLE"
      ],
      "metadata": {
        "id": "4yEU4nUxtPX7"
      }
    },
    {
      "cell_type": "code",
      "source": [
        "data['avg_speed'] = (data.distance/(data.trip_duration/3600))"
      ],
      "metadata": {
        "id": "c2qKiDNKtEIW"
      },
      "execution_count": 10,
      "outputs": []
    },
    {
      "cell_type": "code",
      "source": [
        "data['pickup_weekday']=data['pickup_datetime'].dt.day_name()\n",
        "data['dropoff_weekday']=data['dropoff_datetime'].dt.day_name()\n",
        "data['pickup_weekday_num']=data['pickup_datetime'].dt.weekday\n",
        "data['pickup_hour']=data['pickup_datetime'].dt.hour\n",
        "data['month']=data['pickup_datetime'].dt.month"
      ],
      "metadata": {
        "id": "SW8lBAwgtS9L"
      },
      "execution_count": 11,
      "outputs": []
    },
    {
      "cell_type": "markdown",
      "source": [
        "divided time zone into four main catogory <br>\n",
        "\n",
        "\n",
        "*   Morning (6AM to 12PM)\n",
        "*   Afternoon (12 PM to 4 PM)\n",
        "*   Evening (4PM to 10 PM)\n",
        "*   Late night (10PM to 6AM)\n",
        "\n",
        "\n",
        "\n"
      ],
      "metadata": {
        "id": "xZadj0Wdr3Rd"
      }
    },
    {
      "cell_type": "code",
      "source": [
        "# at which time customer board taxi \n",
        "def time_of_day(x):\n",
        "    if x in range(6,12):\n",
        "        return 'Morning'\n",
        "    elif x in range(12,16):\n",
        "        return 'Afternoon'\n",
        "    elif x in range(16,22):\n",
        "        return 'Evening'\n",
        "    else:\n",
        "        return 'Late night'"
      ],
      "metadata": {
        "id": "LXOvCSMCrtao"
      },
      "execution_count": 12,
      "outputs": []
    },
    {
      "cell_type": "code",
      "source": [
        "data['pickup_timeofday']=data['pickup_hour'].apply(time_of_day)"
      ],
      "metadata": {
        "id": "TpZ8_5UCr4dT"
      },
      "execution_count": 13,
      "outputs": []
    },
    {
      "cell_type": "code",
      "source": [
        "data.describe().apply(lambda s: s.apply(lambda x: format(x, 'g')))"
      ],
      "metadata": {
        "id": "kVuCf4mWr9I-",
        "colab": {
          "base_uri": "https://localhost:8080/",
          "height": 300
        },
        "outputId": "99deb169-f123-4038-f772-dd84055175af"
      },
      "execution_count": 14,
      "outputs": [
        {
          "output_type": "execute_result",
          "data": {
            "text/plain": [
              "         vendor_id passenger_count pickup_longitude pickup_latitude  \\\n",
              "count  1.45864e+06     1.45864e+06      1.45864e+06     1.45864e+06   \n",
              "mean       1.53495         1.66453         -73.9735         40.7509   \n",
              "std       0.498777         1.31424        0.0709019       0.0328812   \n",
              "min              1               0         -121.933         34.3597   \n",
              "25%              1               1         -73.9919         40.7373   \n",
              "50%              2               1         -73.9817         40.7541   \n",
              "75%              2               2         -73.9673         40.7684   \n",
              "max              2               9         -61.3355         51.8811   \n",
              "\n",
              "      dropoff_longitude dropoff_latitude trip_duration     distance  \\\n",
              "count       1.45864e+06      1.45864e+06   1.45864e+06  1.45864e+06   \n",
              "mean           -73.9734          40.7518       959.492      3.44087   \n",
              "std           0.0706433        0.0358906       5237.43      4.29654   \n",
              "min            -121.933          32.1811             1            0   \n",
              "25%            -73.9913          40.7359           397      1.23184   \n",
              "50%            -73.9798          40.7545           662      2.09372   \n",
              "75%             -73.963          40.7698          1075      3.87534   \n",
              "max            -61.3355           43.921   3.52628e+06      1240.91   \n",
              "\n",
              "         avg_speed pickup_weekday_num  pickup_hour        month  \n",
              "count  1.45864e+06        1.45864e+06  1.45864e+06  1.45864e+06  \n",
              "mean       14.4232            3.05037      13.6065      3.51682  \n",
              "std        14.9775            1.95404      6.39969      1.68104  \n",
              "min              0                  0            0            1  \n",
              "25%        9.12129                  1            9            2  \n",
              "50%         12.792                  3           14            4  \n",
              "75%        17.8449                  5           19            5  \n",
              "max        9274.85                  6           23            6  "
            ],
            "text/html": [
              "\n",
              "  <div id=\"df-50f477e1-ba89-4f3d-a41f-d180e63c7b43\">\n",
              "    <div class=\"colab-df-container\">\n",
              "      <div>\n",
              "<style scoped>\n",
              "    .dataframe tbody tr th:only-of-type {\n",
              "        vertical-align: middle;\n",
              "    }\n",
              "\n",
              "    .dataframe tbody tr th {\n",
              "        vertical-align: top;\n",
              "    }\n",
              "\n",
              "    .dataframe thead th {\n",
              "        text-align: right;\n",
              "    }\n",
              "</style>\n",
              "<table border=\"1\" class=\"dataframe\">\n",
              "  <thead>\n",
              "    <tr style=\"text-align: right;\">\n",
              "      <th></th>\n",
              "      <th>vendor_id</th>\n",
              "      <th>passenger_count</th>\n",
              "      <th>pickup_longitude</th>\n",
              "      <th>pickup_latitude</th>\n",
              "      <th>dropoff_longitude</th>\n",
              "      <th>dropoff_latitude</th>\n",
              "      <th>trip_duration</th>\n",
              "      <th>distance</th>\n",
              "      <th>avg_speed</th>\n",
              "      <th>pickup_weekday_num</th>\n",
              "      <th>pickup_hour</th>\n",
              "      <th>month</th>\n",
              "    </tr>\n",
              "  </thead>\n",
              "  <tbody>\n",
              "    <tr>\n",
              "      <th>count</th>\n",
              "      <td>1.45864e+06</td>\n",
              "      <td>1.45864e+06</td>\n",
              "      <td>1.45864e+06</td>\n",
              "      <td>1.45864e+06</td>\n",
              "      <td>1.45864e+06</td>\n",
              "      <td>1.45864e+06</td>\n",
              "      <td>1.45864e+06</td>\n",
              "      <td>1.45864e+06</td>\n",
              "      <td>1.45864e+06</td>\n",
              "      <td>1.45864e+06</td>\n",
              "      <td>1.45864e+06</td>\n",
              "      <td>1.45864e+06</td>\n",
              "    </tr>\n",
              "    <tr>\n",
              "      <th>mean</th>\n",
              "      <td>1.53495</td>\n",
              "      <td>1.66453</td>\n",
              "      <td>-73.9735</td>\n",
              "      <td>40.7509</td>\n",
              "      <td>-73.9734</td>\n",
              "      <td>40.7518</td>\n",
              "      <td>959.492</td>\n",
              "      <td>3.44087</td>\n",
              "      <td>14.4232</td>\n",
              "      <td>3.05037</td>\n",
              "      <td>13.6065</td>\n",
              "      <td>3.51682</td>\n",
              "    </tr>\n",
              "    <tr>\n",
              "      <th>std</th>\n",
              "      <td>0.498777</td>\n",
              "      <td>1.31424</td>\n",
              "      <td>0.0709019</td>\n",
              "      <td>0.0328812</td>\n",
              "      <td>0.0706433</td>\n",
              "      <td>0.0358906</td>\n",
              "      <td>5237.43</td>\n",
              "      <td>4.29654</td>\n",
              "      <td>14.9775</td>\n",
              "      <td>1.95404</td>\n",
              "      <td>6.39969</td>\n",
              "      <td>1.68104</td>\n",
              "    </tr>\n",
              "    <tr>\n",
              "      <th>min</th>\n",
              "      <td>1</td>\n",
              "      <td>0</td>\n",
              "      <td>-121.933</td>\n",
              "      <td>34.3597</td>\n",
              "      <td>-121.933</td>\n",
              "      <td>32.1811</td>\n",
              "      <td>1</td>\n",
              "      <td>0</td>\n",
              "      <td>0</td>\n",
              "      <td>0</td>\n",
              "      <td>0</td>\n",
              "      <td>1</td>\n",
              "    </tr>\n",
              "    <tr>\n",
              "      <th>25%</th>\n",
              "      <td>1</td>\n",
              "      <td>1</td>\n",
              "      <td>-73.9919</td>\n",
              "      <td>40.7373</td>\n",
              "      <td>-73.9913</td>\n",
              "      <td>40.7359</td>\n",
              "      <td>397</td>\n",
              "      <td>1.23184</td>\n",
              "      <td>9.12129</td>\n",
              "      <td>1</td>\n",
              "      <td>9</td>\n",
              "      <td>2</td>\n",
              "    </tr>\n",
              "    <tr>\n",
              "      <th>50%</th>\n",
              "      <td>2</td>\n",
              "      <td>1</td>\n",
              "      <td>-73.9817</td>\n",
              "      <td>40.7541</td>\n",
              "      <td>-73.9798</td>\n",
              "      <td>40.7545</td>\n",
              "      <td>662</td>\n",
              "      <td>2.09372</td>\n",
              "      <td>12.792</td>\n",
              "      <td>3</td>\n",
              "      <td>14</td>\n",
              "      <td>4</td>\n",
              "    </tr>\n",
              "    <tr>\n",
              "      <th>75%</th>\n",
              "      <td>2</td>\n",
              "      <td>2</td>\n",
              "      <td>-73.9673</td>\n",
              "      <td>40.7684</td>\n",
              "      <td>-73.963</td>\n",
              "      <td>40.7698</td>\n",
              "      <td>1075</td>\n",
              "      <td>3.87534</td>\n",
              "      <td>17.8449</td>\n",
              "      <td>5</td>\n",
              "      <td>19</td>\n",
              "      <td>5</td>\n",
              "    </tr>\n",
              "    <tr>\n",
              "      <th>max</th>\n",
              "      <td>2</td>\n",
              "      <td>9</td>\n",
              "      <td>-61.3355</td>\n",
              "      <td>51.8811</td>\n",
              "      <td>-61.3355</td>\n",
              "      <td>43.921</td>\n",
              "      <td>3.52628e+06</td>\n",
              "      <td>1240.91</td>\n",
              "      <td>9274.85</td>\n",
              "      <td>6</td>\n",
              "      <td>23</td>\n",
              "      <td>6</td>\n",
              "    </tr>\n",
              "  </tbody>\n",
              "</table>\n",
              "</div>\n",
              "      <button class=\"colab-df-convert\" onclick=\"convertToInteractive('df-50f477e1-ba89-4f3d-a41f-d180e63c7b43')\"\n",
              "              title=\"Convert this dataframe to an interactive table.\"\n",
              "              style=\"display:none;\">\n",
              "        \n",
              "  <svg xmlns=\"http://www.w3.org/2000/svg\" height=\"24px\"viewBox=\"0 0 24 24\"\n",
              "       width=\"24px\">\n",
              "    <path d=\"M0 0h24v24H0V0z\" fill=\"none\"/>\n",
              "    <path d=\"M18.56 5.44l.94 2.06.94-2.06 2.06-.94-2.06-.94-.94-2.06-.94 2.06-2.06.94zm-11 1L8.5 8.5l.94-2.06 2.06-.94-2.06-.94L8.5 2.5l-.94 2.06-2.06.94zm10 10l.94 2.06.94-2.06 2.06-.94-2.06-.94-.94-2.06-.94 2.06-2.06.94z\"/><path d=\"M17.41 7.96l-1.37-1.37c-.4-.4-.92-.59-1.43-.59-.52 0-1.04.2-1.43.59L10.3 9.45l-7.72 7.72c-.78.78-.78 2.05 0 2.83L4 21.41c.39.39.9.59 1.41.59.51 0 1.02-.2 1.41-.59l7.78-7.78 2.81-2.81c.8-.78.8-2.07 0-2.86zM5.41 20L4 18.59l7.72-7.72 1.47 1.35L5.41 20z\"/>\n",
              "  </svg>\n",
              "      </button>\n",
              "      \n",
              "  <style>\n",
              "    .colab-df-container {\n",
              "      display:flex;\n",
              "      flex-wrap:wrap;\n",
              "      gap: 12px;\n",
              "    }\n",
              "\n",
              "    .colab-df-convert {\n",
              "      background-color: #E8F0FE;\n",
              "      border: none;\n",
              "      border-radius: 50%;\n",
              "      cursor: pointer;\n",
              "      display: none;\n",
              "      fill: #1967D2;\n",
              "      height: 32px;\n",
              "      padding: 0 0 0 0;\n",
              "      width: 32px;\n",
              "    }\n",
              "\n",
              "    .colab-df-convert:hover {\n",
              "      background-color: #E2EBFA;\n",
              "      box-shadow: 0px 1px 2px rgba(60, 64, 67, 0.3), 0px 1px 3px 1px rgba(60, 64, 67, 0.15);\n",
              "      fill: #174EA6;\n",
              "    }\n",
              "\n",
              "    [theme=dark] .colab-df-convert {\n",
              "      background-color: #3B4455;\n",
              "      fill: #D2E3FC;\n",
              "    }\n",
              "\n",
              "    [theme=dark] .colab-df-convert:hover {\n",
              "      background-color: #434B5C;\n",
              "      box-shadow: 0px 1px 3px 1px rgba(0, 0, 0, 0.15);\n",
              "      filter: drop-shadow(0px 1px 2px rgba(0, 0, 0, 0.3));\n",
              "      fill: #FFFFFF;\n",
              "    }\n",
              "  </style>\n",
              "\n",
              "      <script>\n",
              "        const buttonEl =\n",
              "          document.querySelector('#df-50f477e1-ba89-4f3d-a41f-d180e63c7b43 button.colab-df-convert');\n",
              "        buttonEl.style.display =\n",
              "          google.colab.kernel.accessAllowed ? 'block' : 'none';\n",
              "\n",
              "        async function convertToInteractive(key) {\n",
              "          const element = document.querySelector('#df-50f477e1-ba89-4f3d-a41f-d180e63c7b43');\n",
              "          const dataTable =\n",
              "            await google.colab.kernel.invokeFunction('convertToInteractive',\n",
              "                                                     [key], {});\n",
              "          if (!dataTable) return;\n",
              "\n",
              "          const docLinkHtml = 'Like what you see? Visit the ' +\n",
              "            '<a target=\"_blank\" href=https://colab.research.google.com/notebooks/data_table.ipynb>data table notebook</a>'\n",
              "            + ' to learn more about interactive tables.';\n",
              "          element.innerHTML = '';\n",
              "          dataTable['output_type'] = 'display_data';\n",
              "          await google.colab.output.renderOutput(dataTable, element);\n",
              "          const docLink = document.createElement('div');\n",
              "          docLink.innerHTML = docLinkHtml;\n",
              "          element.appendChild(docLink);\n",
              "        }\n",
              "      </script>\n",
              "    </div>\n",
              "  </div>\n",
              "  "
            ]
          },
          "metadata": {},
          "execution_count": 14
        }
      ]
    },
    {
      "cell_type": "code",
      "source": [
        "data.shape"
      ],
      "metadata": {
        "id": "ylOPZ7JjsA85",
        "colab": {
          "base_uri": "https://localhost:8080/"
        },
        "outputId": "7074649a-6a1e-44a1-c879-d842f87b10c4"
      },
      "execution_count": 15,
      "outputs": [
        {
          "output_type": "execute_result",
          "data": {
            "text/plain": [
              "(1458644, 19)"
            ]
          },
          "metadata": {},
          "execution_count": 15
        }
      ]
    },
    {
      "cell_type": "code",
      "source": [
        "data.columns"
      ],
      "metadata": {
        "id": "XrutMDJMsEFz",
        "colab": {
          "base_uri": "https://localhost:8080/"
        },
        "outputId": "3406c951-164f-4a76-b875-4aa6487948f0"
      },
      "execution_count": 16,
      "outputs": [
        {
          "output_type": "execute_result",
          "data": {
            "text/plain": [
              "Index(['id', 'vendor_id', 'pickup_datetime', 'dropoff_datetime',\n",
              "       'passenger_count', 'pickup_longitude', 'pickup_latitude',\n",
              "       'dropoff_longitude', 'dropoff_latitude', 'store_and_fwd_flag',\n",
              "       'trip_duration', 'distance', 'avg_speed', 'pickup_weekday',\n",
              "       'dropoff_weekday', 'pickup_weekday_num', 'pickup_hour', 'month',\n",
              "       'pickup_timeofday'],\n",
              "      dtype='object')"
            ]
          },
          "metadata": {},
          "execution_count": 16
        }
      ]
    },
    {
      "cell_type": "markdown",
      "source": [
        "# Univariate Analysis"
      ],
      "metadata": {
        "id": "XjT7clAq5glz"
      }
    },
    {
      "cell_type": "code",
      "source": [
        "plt.rcParams[\"figure.figsize\"] = [10,6]"
      ],
      "metadata": {
        "id": "8sWzLDwRsHQ8"
      },
      "execution_count": 17,
      "outputs": []
    },
    {
      "cell_type": "code",
      "source": [
        "data.head()"
      ],
      "metadata": {
        "id": "-_ZgndNC5vTb",
        "colab": {
          "base_uri": "https://localhost:8080/",
          "height": 357
        },
        "outputId": "40dbcae8-cabe-47c6-a31e-69dae916103f"
      },
      "execution_count": 18,
      "outputs": [
        {
          "output_type": "execute_result",
          "data": {
            "text/plain": [
              "          id  vendor_id     pickup_datetime    dropoff_datetime  \\\n",
              "0  id2875421          2 2016-03-14 17:24:55 2016-03-14 17:32:30   \n",
              "1  id2377394          1 2016-06-12 00:43:35 2016-06-12 00:54:38   \n",
              "2  id3858529          2 2016-01-19 11:35:24 2016-01-19 12:10:48   \n",
              "3  id3504673          2 2016-04-06 19:32:31 2016-04-06 19:39:40   \n",
              "4  id2181028          2 2016-03-26 13:30:55 2016-03-26 13:38:10   \n",
              "\n",
              "   passenger_count  pickup_longitude  pickup_latitude  dropoff_longitude  \\\n",
              "0                1        -73.982155        40.767937         -73.964630   \n",
              "1                1        -73.980415        40.738564         -73.999481   \n",
              "2                1        -73.979027        40.763939         -74.005333   \n",
              "3                1        -74.010040        40.719971         -74.012268   \n",
              "4                1        -73.973053        40.793209         -73.972923   \n",
              "\n",
              "   dropoff_latitude store_and_fwd_flag  trip_duration  distance  avg_speed  \\\n",
              "0         40.765602                  N            455  1.498523  11.856445   \n",
              "1         40.731152                  N            663  1.805510   9.803673   \n",
              "2         40.710087                  N           2124  6.385108  10.822216   \n",
              "3         40.706718                  N            429  1.485501  12.465739   \n",
              "4         40.782520                  N            435  1.188590   9.836608   \n",
              "\n",
              "  pickup_weekday dropoff_weekday  pickup_weekday_num  pickup_hour  month  \\\n",
              "0         Monday          Monday                   0           17      3   \n",
              "1         Sunday          Sunday                   6            0      6   \n",
              "2        Tuesday         Tuesday                   1           11      1   \n",
              "3      Wednesday       Wednesday                   2           19      4   \n",
              "4       Saturday        Saturday                   5           13      3   \n",
              "\n",
              "  pickup_timeofday  \n",
              "0          Evening  \n",
              "1       Late night  \n",
              "2          Morning  \n",
              "3          Evening  \n",
              "4        Afternoon  "
            ],
            "text/html": [
              "\n",
              "  <div id=\"df-7d03bc35-9efb-4b86-89be-43cc1882020e\">\n",
              "    <div class=\"colab-df-container\">\n",
              "      <div>\n",
              "<style scoped>\n",
              "    .dataframe tbody tr th:only-of-type {\n",
              "        vertical-align: middle;\n",
              "    }\n",
              "\n",
              "    .dataframe tbody tr th {\n",
              "        vertical-align: top;\n",
              "    }\n",
              "\n",
              "    .dataframe thead th {\n",
              "        text-align: right;\n",
              "    }\n",
              "</style>\n",
              "<table border=\"1\" class=\"dataframe\">\n",
              "  <thead>\n",
              "    <tr style=\"text-align: right;\">\n",
              "      <th></th>\n",
              "      <th>id</th>\n",
              "      <th>vendor_id</th>\n",
              "      <th>pickup_datetime</th>\n",
              "      <th>dropoff_datetime</th>\n",
              "      <th>passenger_count</th>\n",
              "      <th>pickup_longitude</th>\n",
              "      <th>pickup_latitude</th>\n",
              "      <th>dropoff_longitude</th>\n",
              "      <th>dropoff_latitude</th>\n",
              "      <th>store_and_fwd_flag</th>\n",
              "      <th>trip_duration</th>\n",
              "      <th>distance</th>\n",
              "      <th>avg_speed</th>\n",
              "      <th>pickup_weekday</th>\n",
              "      <th>dropoff_weekday</th>\n",
              "      <th>pickup_weekday_num</th>\n",
              "      <th>pickup_hour</th>\n",
              "      <th>month</th>\n",
              "      <th>pickup_timeofday</th>\n",
              "    </tr>\n",
              "  </thead>\n",
              "  <tbody>\n",
              "    <tr>\n",
              "      <th>0</th>\n",
              "      <td>id2875421</td>\n",
              "      <td>2</td>\n",
              "      <td>2016-03-14 17:24:55</td>\n",
              "      <td>2016-03-14 17:32:30</td>\n",
              "      <td>1</td>\n",
              "      <td>-73.982155</td>\n",
              "      <td>40.767937</td>\n",
              "      <td>-73.964630</td>\n",
              "      <td>40.765602</td>\n",
              "      <td>N</td>\n",
              "      <td>455</td>\n",
              "      <td>1.498523</td>\n",
              "      <td>11.856445</td>\n",
              "      <td>Monday</td>\n",
              "      <td>Monday</td>\n",
              "      <td>0</td>\n",
              "      <td>17</td>\n",
              "      <td>3</td>\n",
              "      <td>Evening</td>\n",
              "    </tr>\n",
              "    <tr>\n",
              "      <th>1</th>\n",
              "      <td>id2377394</td>\n",
              "      <td>1</td>\n",
              "      <td>2016-06-12 00:43:35</td>\n",
              "      <td>2016-06-12 00:54:38</td>\n",
              "      <td>1</td>\n",
              "      <td>-73.980415</td>\n",
              "      <td>40.738564</td>\n",
              "      <td>-73.999481</td>\n",
              "      <td>40.731152</td>\n",
              "      <td>N</td>\n",
              "      <td>663</td>\n",
              "      <td>1.805510</td>\n",
              "      <td>9.803673</td>\n",
              "      <td>Sunday</td>\n",
              "      <td>Sunday</td>\n",
              "      <td>6</td>\n",
              "      <td>0</td>\n",
              "      <td>6</td>\n",
              "      <td>Late night</td>\n",
              "    </tr>\n",
              "    <tr>\n",
              "      <th>2</th>\n",
              "      <td>id3858529</td>\n",
              "      <td>2</td>\n",
              "      <td>2016-01-19 11:35:24</td>\n",
              "      <td>2016-01-19 12:10:48</td>\n",
              "      <td>1</td>\n",
              "      <td>-73.979027</td>\n",
              "      <td>40.763939</td>\n",
              "      <td>-74.005333</td>\n",
              "      <td>40.710087</td>\n",
              "      <td>N</td>\n",
              "      <td>2124</td>\n",
              "      <td>6.385108</td>\n",
              "      <td>10.822216</td>\n",
              "      <td>Tuesday</td>\n",
              "      <td>Tuesday</td>\n",
              "      <td>1</td>\n",
              "      <td>11</td>\n",
              "      <td>1</td>\n",
              "      <td>Morning</td>\n",
              "    </tr>\n",
              "    <tr>\n",
              "      <th>3</th>\n",
              "      <td>id3504673</td>\n",
              "      <td>2</td>\n",
              "      <td>2016-04-06 19:32:31</td>\n",
              "      <td>2016-04-06 19:39:40</td>\n",
              "      <td>1</td>\n",
              "      <td>-74.010040</td>\n",
              "      <td>40.719971</td>\n",
              "      <td>-74.012268</td>\n",
              "      <td>40.706718</td>\n",
              "      <td>N</td>\n",
              "      <td>429</td>\n",
              "      <td>1.485501</td>\n",
              "      <td>12.465739</td>\n",
              "      <td>Wednesday</td>\n",
              "      <td>Wednesday</td>\n",
              "      <td>2</td>\n",
              "      <td>19</td>\n",
              "      <td>4</td>\n",
              "      <td>Evening</td>\n",
              "    </tr>\n",
              "    <tr>\n",
              "      <th>4</th>\n",
              "      <td>id2181028</td>\n",
              "      <td>2</td>\n",
              "      <td>2016-03-26 13:30:55</td>\n",
              "      <td>2016-03-26 13:38:10</td>\n",
              "      <td>1</td>\n",
              "      <td>-73.973053</td>\n",
              "      <td>40.793209</td>\n",
              "      <td>-73.972923</td>\n",
              "      <td>40.782520</td>\n",
              "      <td>N</td>\n",
              "      <td>435</td>\n",
              "      <td>1.188590</td>\n",
              "      <td>9.836608</td>\n",
              "      <td>Saturday</td>\n",
              "      <td>Saturday</td>\n",
              "      <td>5</td>\n",
              "      <td>13</td>\n",
              "      <td>3</td>\n",
              "      <td>Afternoon</td>\n",
              "    </tr>\n",
              "  </tbody>\n",
              "</table>\n",
              "</div>\n",
              "      <button class=\"colab-df-convert\" onclick=\"convertToInteractive('df-7d03bc35-9efb-4b86-89be-43cc1882020e')\"\n",
              "              title=\"Convert this dataframe to an interactive table.\"\n",
              "              style=\"display:none;\">\n",
              "        \n",
              "  <svg xmlns=\"http://www.w3.org/2000/svg\" height=\"24px\"viewBox=\"0 0 24 24\"\n",
              "       width=\"24px\">\n",
              "    <path d=\"M0 0h24v24H0V0z\" fill=\"none\"/>\n",
              "    <path d=\"M18.56 5.44l.94 2.06.94-2.06 2.06-.94-2.06-.94-.94-2.06-.94 2.06-2.06.94zm-11 1L8.5 8.5l.94-2.06 2.06-.94-2.06-.94L8.5 2.5l-.94 2.06-2.06.94zm10 10l.94 2.06.94-2.06 2.06-.94-2.06-.94-.94-2.06-.94 2.06-2.06.94z\"/><path d=\"M17.41 7.96l-1.37-1.37c-.4-.4-.92-.59-1.43-.59-.52 0-1.04.2-1.43.59L10.3 9.45l-7.72 7.72c-.78.78-.78 2.05 0 2.83L4 21.41c.39.39.9.59 1.41.59.51 0 1.02-.2 1.41-.59l7.78-7.78 2.81-2.81c.8-.78.8-2.07 0-2.86zM5.41 20L4 18.59l7.72-7.72 1.47 1.35L5.41 20z\"/>\n",
              "  </svg>\n",
              "      </button>\n",
              "      \n",
              "  <style>\n",
              "    .colab-df-container {\n",
              "      display:flex;\n",
              "      flex-wrap:wrap;\n",
              "      gap: 12px;\n",
              "    }\n",
              "\n",
              "    .colab-df-convert {\n",
              "      background-color: #E8F0FE;\n",
              "      border: none;\n",
              "      border-radius: 50%;\n",
              "      cursor: pointer;\n",
              "      display: none;\n",
              "      fill: #1967D2;\n",
              "      height: 32px;\n",
              "      padding: 0 0 0 0;\n",
              "      width: 32px;\n",
              "    }\n",
              "\n",
              "    .colab-df-convert:hover {\n",
              "      background-color: #E2EBFA;\n",
              "      box-shadow: 0px 1px 2px rgba(60, 64, 67, 0.3), 0px 1px 3px 1px rgba(60, 64, 67, 0.15);\n",
              "      fill: #174EA6;\n",
              "    }\n",
              "\n",
              "    [theme=dark] .colab-df-convert {\n",
              "      background-color: #3B4455;\n",
              "      fill: #D2E3FC;\n",
              "    }\n",
              "\n",
              "    [theme=dark] .colab-df-convert:hover {\n",
              "      background-color: #434B5C;\n",
              "      box-shadow: 0px 1px 3px 1px rgba(0, 0, 0, 0.15);\n",
              "      filter: drop-shadow(0px 1px 2px rgba(0, 0, 0, 0.3));\n",
              "      fill: #FFFFFF;\n",
              "    }\n",
              "  </style>\n",
              "\n",
              "      <script>\n",
              "        const buttonEl =\n",
              "          document.querySelector('#df-7d03bc35-9efb-4b86-89be-43cc1882020e button.colab-df-convert');\n",
              "        buttonEl.style.display =\n",
              "          google.colab.kernel.accessAllowed ? 'block' : 'none';\n",
              "\n",
              "        async function convertToInteractive(key) {\n",
              "          const element = document.querySelector('#df-7d03bc35-9efb-4b86-89be-43cc1882020e');\n",
              "          const dataTable =\n",
              "            await google.colab.kernel.invokeFunction('convertToInteractive',\n",
              "                                                     [key], {});\n",
              "          if (!dataTable) return;\n",
              "\n",
              "          const docLinkHtml = 'Like what you see? Visit the ' +\n",
              "            '<a target=\"_blank\" href=https://colab.research.google.com/notebooks/data_table.ipynb>data table notebook</a>'\n",
              "            + ' to learn more about interactive tables.';\n",
              "          element.innerHTML = '';\n",
              "          dataTable['output_type'] = 'display_data';\n",
              "          await google.colab.output.renderOutput(dataTable, element);\n",
              "          const docLink = document.createElement('div');\n",
              "          docLink.innerHTML = docLinkHtml;\n",
              "          element.appendChild(docLink);\n",
              "        }\n",
              "      </script>\n",
              "    </div>\n",
              "  </div>\n",
              "  "
            ]
          },
          "metadata": {},
          "execution_count": 18
        }
      ]
    },
    {
      "cell_type": "markdown",
      "source": [
        "##Column 1 and 2: column 'id' and 'vendor_id' <br>\n",
        "There are only two vendor who provided service"
      ],
      "metadata": {
        "id": "Kt4h3kVD6iZU"
      }
    },
    {
      "cell_type": "code",
      "source": [
        "sns.countplot(data.vendor_id)\n",
        "plt.xlabel('Vendor ID')\n",
        "plt.ylabel('Count')\n",
        "plt.show()"
      ],
      "metadata": {
        "id": "hvtmMX5U6alJ",
        "colab": {
          "base_uri": "https://localhost:8080/",
          "height": 442
        },
        "outputId": "162a0148-cb26-4bfb-df1d-e4fcf8c48a96"
      },
      "execution_count": 19,
      "outputs": [
        {
          "output_type": "stream",
          "name": "stderr",
          "text": [
            "/usr/local/lib/python3.7/dist-packages/seaborn/_decorators.py:43: FutureWarning: Pass the following variable as a keyword arg: x. From version 0.12, the only valid positional argument will be `data`, and passing other arguments without an explicit keyword will result in an error or misinterpretation.\n",
            "  FutureWarning\n"
          ]
        },
        {
          "output_type": "display_data",
          "data": {
            "text/plain": [
              "<Figure size 720x432 with 1 Axes>"
            ],
            "image/png": "[encoded data removed]"
          },
          "metadata": {
            "needs_background": "light"
          }
        }
      ]
    },
    {
      "cell_type": "markdown",
      "source": [
        "## **column 3 and column 4**: from'pickup_datetime' and 'dropoff_datetime' column we created new feature column like '**pickup_weekday**', '**dropoff_weekday**' '**pickup_weekday_num**', '**pickup_hour \tmonth**', and '**pickup_timeofday**'."
      ],
      "metadata": {
        "id": "ggN3WFoj6qkQ"
      }
    },
    {
      "cell_type": "markdown",
      "source": [
        "##**column 5: Passenger_count** <br>\n",
        "from the graph, we can see that there are few trips with passenger broad a taxi is too low. it may be outliers so going to reomve entries with 0, 7, 8, 9 passenger per trip.\n"
      ],
      "metadata": {
        "id": "ImrQlVJn6ugr"
      }
    },
    {
      "cell_type": "code",
      "source": [
        "data.passenger_count.value_counts().plot(kind=\"bar\")\n",
        "plt.xlabel(\"number of passenger\")\n",
        "plt.ylabel(\"No of entries\")\n",
        "plt.title(\"Maximum number of passenger  per trip\")\n",
        "plt.show()\n",
        "\n"
      ],
      "metadata": {
        "id": "cXGCL8dD6e1V",
        "colab": {
          "base_uri": "https://localhost:8080/",
          "height": 400
        },
        "outputId": "c9a6b838-451c-411e-d79f-6c2ddd1df604"
      },
      "execution_count": 20,
      "outputs": [
        {
          "output_type": "display_data",
          "data": {
            "text/plain": [
              "<Figure size 720x432 with 1 Axes>"
            ],
            "image/png": "[encoded data removed]"
          },
          "metadata": {
            "needs_background": "light"
          }
        }
      ]
    },
    {
      "cell_type": "markdown",
      "source": [
        "## column 6: pickup_latitude \tpickup_longitude <br>\n"
      ],
      "metadata": {
        "id": "R18JAA6s62k4"
      }
    },
    {
      "cell_type": "code",
      "source": [
        "import folium\n",
        "from folium.plugins import HeatMap\n",
        "from folium import plugins\n"
      ],
      "metadata": {
        "id": "mFmz6_uJ6ypH"
      },
      "execution_count": 21,
      "outputs": []
    },
    {
      "cell_type": "code",
      "source": [
        "map_NYC = folium.Map([60,-120],zoom_start=7)"
      ],
      "metadata": {
        "id": "jAwj5_Rh67fx"
      },
      "execution_count": 22,
      "outputs": []
    },
    {
      "cell_type": "code",
      "source": [
        "'''station = data[['pickup_longitude','pickup_latitude']]\n",
        "# convert to (n, 2) nd-array format for heatmap\n",
        "stationArr = station.values\n",
        "\n",
        "# plot heatmap\n",
        "map_NYC.add_child(plugins.HeatMap(stationArr, radius=15))\n",
        "map_NYC'''"
      ],
      "metadata": {
        "id": "yuw5sTq36_u_",
        "colab": {
          "base_uri": "https://localhost:8080/",
          "height": 53
        },
        "outputId": "0ebd6ff7-5228-4b47-cce5-40426d0f3fdf"
      },
      "execution_count": 23,
      "outputs": [
        {
          "output_type": "execute_result",
          "data": {
            "text/plain": [
              "\"station = data[['pickup_longitude','pickup_latitude']]\\n# convert to (n, 2) nd-array format for heatmap\\nstationArr = station.values\\n\\n# plot heatmap\\nmap_NYC.add_child(plugins.HeatMap(stationArr, radius=15))\\nmap_NYC\""
            ],
            "application/vnd.google.colaboratory.intrinsic+json": {
              "type": "string"
            }
          },
          "metadata": {},
          "execution_count": 23
        }
      ]
    },
    {
      "cell_type": "markdown",
      "source": [
        "## column 8 & 9: dropoff_latitude \tdropoff_longitude <br>"
      ],
      "metadata": {
        "id": "Oq5xlFVu8OtL"
      }
    },
    {
      "cell_type": "code",
      "source": [
        "map_NYC = folium.Map([40.80902,-73.94190],zoom_start=7)"
      ],
      "metadata": {
        "id": "4w0FQuJw7Efy"
      },
      "execution_count": 24,
      "outputs": []
    },
    {
      "cell_type": "code",
      "source": [
        "'''station_drop = data[['dropoff_latitude', 'dropoff_longitude']]\n",
        "# convert to (n, 2) nd-array format for heatmap\n",
        "stationArr_drop = station_drop.values\n",
        "\n",
        "# plot heatmap\n",
        "map_NYC.add_child(plugins.HeatMap(stationArr_drop, radius=15))\n",
        "map_NYC'''"
      ],
      "metadata": {
        "id": "MRhjGkM88U60",
        "colab": {
          "base_uri": "https://localhost:8080/",
          "height": 53
        },
        "outputId": "ef228f23-6d9e-43ce-e883-64ba2e58d505"
      },
      "execution_count": 25,
      "outputs": [
        {
          "output_type": "execute_result",
          "data": {
            "text/plain": [
              "\"station_drop = data[['dropoff_latitude', 'dropoff_longitude']]\\n# convert to (n, 2) nd-array format for heatmap\\nstationArr_drop = station_drop.values\\n\\n# plot heatmap\\nmap_NYC.add_child(plugins.HeatMap(stationArr_drop, radius=15))\\nmap_NYC\""
            ],
            "application/vnd.google.colaboratory.intrinsic+json": {
              "type": "string"
            }
          },
          "metadata": {},
          "execution_count": 25
        }
      ]
    },
    {
      "cell_type": "markdown",
      "source": [
        "## column 10: Store and forward flag <br>\n",
        "only two observation  are included in this feature"
      ],
      "metadata": {
        "id": "FHdXd8iG8b5X"
      }
    },
    {
      "cell_type": "code",
      "source": [
        "sns.countplot(x='store_and_fwd_flag',data=data)\n",
        "plt.ylabel('Count')\n",
        "plt.xlabel('Store and forward flag')\n",
        "plt.show()"
      ],
      "metadata": {
        "id": "NwNwSiU18Xj9",
        "colab": {
          "base_uri": "https://localhost:8080/",
          "height": 398
        },
        "outputId": "b6312878-6d61-4600-dfb6-89d80b0ec067"
      },
      "execution_count": 26,
      "outputs": [
        {
          "output_type": "display_data",
          "data": {
            "text/plain": [
              "<Figure size 720x432 with 1 Axes>"
            ],
            "image/png": "[encoded data removed]"
          },
          "metadata": {
            "needs_background": "light"
          }
        }
      ]
    },
    {
      "cell_type": "markdown",
      "source": [
        " We can see that only about 0.5% of the trip details were stored in the vehicle memory first"
      ],
      "metadata": {
        "id": "jo-eeZNR8j5-"
      }
    },
    {
      "cell_type": "markdown",
      "source": [
        "##column 11: trip duration <br>\n"
      ],
      "metadata": {
        "id": "tbM4Ya6A8qpN"
      }
    },
    {
      "cell_type": "code",
      "source": [
        "#create boxplot to check probable outliers\n",
        "sns.boxplot(data.trip_duration)\n",
        "plt.xlabel('Trip Duration')\n",
        "plt.show()"
      ],
      "metadata": {
        "id": "6UmCVU2_8gUK",
        "colab": {
          "base_uri": "https://localhost:8080/",
          "height": 442
        },
        "outputId": "2175fb6f-c55d-4509-e7c2-f808feff8278"
      },
      "execution_count": 27,
      "outputs": [
        {
          "output_type": "stream",
          "name": "stderr",
          "text": [
            "/usr/local/lib/python3.7/dist-packages/seaborn/_decorators.py:43: FutureWarning: Pass the following variable as a keyword arg: x. From version 0.12, the only valid positional argument will be `data`, and passing other arguments without an explicit keyword will result in an error or misinterpretation.\n",
            "  FutureWarning\n"
          ]
        },
        {
          "output_type": "display_data",
          "data": {
            "text/plain": [
              "<Figure size 720x432 with 1 Axes>"
            ],
            "image/png": "[encoded data removed]"
          },
          "metadata": {
            "needs_background": "light"
          }
        }
      ]
    },
    {
      "cell_type": "code",
      "source": [
        "#to check skewness of data \n",
        "sns.distplot(data['trip_duration'],norm_hist=True)\n",
        "plt.title(\"Trip duration before normalization\")\n",
        "plt.show()"
      ],
      "metadata": {
        "id": "ijAVzI4a8tz4",
        "colab": {
          "base_uri": "https://localhost:8080/",
          "height": 460
        },
        "outputId": "b1274197-48dc-488e-a616-9f00a8fc201a"
      },
      "execution_count": 28,
      "outputs": [
        {
          "output_type": "stream",
          "name": "stderr",
          "text": [
            "/usr/local/lib/python3.7/dist-packages/seaborn/distributions.py:2619: FutureWarning: `distplot` is a deprecated function and will be removed in a future version. Please adapt your code to use either `displot` (a figure-level function with similar flexibility) or `histplot` (an axes-level function for histograms).\n",
            "  warnings.warn(msg, FutureWarning)\n"
          ]
        },
        {
          "output_type": "display_data",
          "data": {
            "text/plain": [
              "<Figure size 720x432 with 1 Axes>"
            ],
            "image/png": "[encoded data removed]"
          },
          "metadata": {
            "needs_background": "light"
          }
        }
      ]
    },
    {
      "cell_type": "code",
      "source": [
        "print(f\" skew coefficient is {data['trip_duration'].skew()}\")"
      ],
      "metadata": {
        "id": "i_nDJeat80WT",
        "colab": {
          "base_uri": "https://localhost:8080/"
        },
        "outputId": "f1726c40-d12e-4427-b435-72558a63c30c"
      },
      "execution_count": 29,
      "outputs": [
        {
          "output_type": "stream",
          "name": "stdout",
          "text": [
            " skew coefficient is 343.1639435917362\n"
          ]
        }
      ]
    },
    {
      "cell_type": "markdown",
      "source": [
        "data is right skewed. using log transformation we can remove skewness."
      ],
      "metadata": {
        "id": "mTgF6jIZKair"
      }
    },
    {
      "cell_type": "code",
      "source": [
        "sns.distplot(np.log(data['trip_duration']))\n",
        "plt.title(\"Trip duration after normalization\")\n",
        "plt.show()"
      ],
      "metadata": {
        "id": "REvDKQ9cKTEY",
        "colab": {
          "base_uri": "https://localhost:8080/",
          "height": 460
        },
        "outputId": "fcb988af-b696-435d-fe30-f9ed0651c54a"
      },
      "execution_count": 30,
      "outputs": [
        {
          "output_type": "stream",
          "name": "stderr",
          "text": [
            "/usr/local/lib/python3.7/dist-packages/seaborn/distributions.py:2619: FutureWarning: `distplot` is a deprecated function and will be removed in a future version. Please adapt your code to use either `displot` (a figure-level function with similar flexibility) or `histplot` (an axes-level function for histograms).\n",
            "  warnings.warn(msg, FutureWarning)\n"
          ]
        },
        {
          "output_type": "display_data",
          "data": {
            "text/plain": [
              "<Figure size 720x432 with 1 Axes>"
            ],
            "image/png": "[encoded data removed]"
          },
          "metadata": {
            "needs_background": "light"
          }
        }
      ]
    },
    {
      "cell_type": "code",
      "source": [
        "np.log(data['trip_duration'])\n",
        "data_trip_duration = np.log(data['trip_duration'])\n",
        "print(f\" skew coefficient went from {data['trip_duration'].skew()} to {data_trip_duration.skew()}\")"
      ],
      "metadata": {
        "id": "oEaINzx1KguV",
        "colab": {
          "base_uri": "https://localhost:8080/"
        },
        "outputId": "965966cd-b674-4d39-90a5-d40143d6bebd"
      },
      "execution_count": 31,
      "outputs": [
        {
          "output_type": "stream",
          "name": "stdout",
          "text": [
            " skew coefficient went from 343.1639435917362 to -0.34070423044801745\n"
          ]
        }
      ]
    },
    {
      "cell_type": "markdown",
      "source": [
        "## column 12: distance <br>"
      ],
      "metadata": {
        "id": "VNp82YA-KnMH"
      }
    },
    {
      "cell_type": "code",
      "source": [
        "sns.boxplot(data.distance)\n",
        "plt.xlabel('Distance')\n",
        "plt.show()"
      ],
      "metadata": {
        "id": "g6n0x3RBKkMo",
        "colab": {
          "base_uri": "https://localhost:8080/",
          "height": 442
        },
        "outputId": "e711b598-77d2-490c-88e6-2d80cb2eef98"
      },
      "execution_count": 32,
      "outputs": [
        {
          "output_type": "stream",
          "name": "stderr",
          "text": [
            "/usr/local/lib/python3.7/dist-packages/seaborn/_decorators.py:43: FutureWarning: Pass the following variable as a keyword arg: x. From version 0.12, the only valid positional argument will be `data`, and passing other arguments without an explicit keyword will result in an error or misinterpretation.\n",
            "  FutureWarning\n"
          ]
        },
        {
          "output_type": "display_data",
          "data": {
            "text/plain": [
              "<Figure size 720x432 with 1 Axes>"
            ],
            "image/png": "[encoded data removed]"
          },
          "metadata": {
            "needs_background": "light"
          }
        }
      ]
    },
    {
      "cell_type": "code",
      "source": [
        "\n",
        "sns.displot(data=data, x='distance', height=7,aspect=1)\n",
        "plt.title(\"Distance travelled per trip (before normalization)\")\n",
        "plt.show()"
      ],
      "metadata": {
        "id": "c-Z2QsxpKp6E",
        "colab": {
          "base_uri": "https://localhost:8080/",
          "height": 528
        },
        "outputId": "5f7f70f4-7d3b-4d29-afb9-25843e1bcb42"
      },
      "execution_count": 33,
      "outputs": [
        {
          "output_type": "display_data",
          "data": {
            "text/plain": [
              "<Figure size 504x504 with 1 Axes>"
            ],
            "image/png": "[encoded data removed]"
          },
          "metadata": {
            "needs_background": "light"
          }
        }
      ]
    },
    {
      "cell_type": "code",
      "source": [
        "print(f\"Skew coefficient is {data['distance'].skew()}\")"
      ],
      "metadata": {
        "id": "LxDbluGnKtxd",
        "colab": {
          "base_uri": "https://localhost:8080/"
        },
        "outputId": "d08264d4-121f-4af7-d168-e1e44574c9e5"
      },
      "execution_count": 34,
      "outputs": [
        {
          "output_type": "stream",
          "name": "stdout",
          "text": [
            "Skew coefficient is 32.63098100465969\n"
          ]
        }
      ]
    },
    {
      "cell_type": "code",
      "source": [
        "sns.displot(np.log(data[\"distance\"]), height=7,aspect=1.5)\n",
        "plt.title(\"Distance travelled per trip (after normalization)\")\n",
        "plt.show()"
      ],
      "metadata": {
        "id": "HEKlt5ZMKw-5",
        "colab": {
          "base_uri": "https://localhost:8080/",
          "height": 563
        },
        "outputId": "77224e88-a6d5-4b60-a274-6b7dbf7ef392"
      },
      "execution_count": 35,
      "outputs": [
        {
          "output_type": "stream",
          "name": "stderr",
          "text": [
            "/usr/local/lib/python3.7/dist-packages/pandas/core/arraylike.py:364: RuntimeWarning: divide by zero encountered in log\n",
            "  result = getattr(ufunc, method)(*inputs, **kwargs)\n"
          ]
        },
        {
          "output_type": "display_data",
          "data": {
            "text/plain": [
              "<Figure size 756x504 with 1 Axes>"
            ],
            "image/png": "[encoded data removed]"
          },
          "metadata": {
            "needs_background": "light"
          }
        }
      ]
    },
    {
      "cell_type": "code",
      "source": [
        "distance_log_skew = np.log(data['distance']).skew()\n",
        "print(f\" Skew coefficient went from {data['distance'].skew()} to {distance_log_skew}\")"
      ],
      "metadata": {
        "id": "6HyRyLu1Kz2Q",
        "colab": {
          "base_uri": "https://localhost:8080/"
        },
        "outputId": "ff93b4d3-5410-4239-9f4a-21c0b447ae99"
      },
      "execution_count": 36,
      "outputs": [
        {
          "output_type": "stream",
          "name": "stdout",
          "text": [
            " Skew coefficient went from 32.63098100465969 to nan\n"
          ]
        },
        {
          "output_type": "stream",
          "name": "stderr",
          "text": [
            "/usr/local/lib/python3.7/dist-packages/pandas/core/arraylike.py:364: RuntimeWarning: divide by zero encountered in log\n",
            "  result = getattr(ufunc, method)(*inputs, **kwargs)\n"
          ]
        }
      ]
    },
    {
      "cell_type": "markdown",
      "source": [
        "## column 13: Average speed"
      ],
      "metadata": {
        "id": "j3KDpD-_LLLk"
      }
    },
    {
      "cell_type": "code",
      "source": [
        "sns.boxplot(x=\"avg_speed\", data=data)\n",
        "plt.xlabel('Average Speed')\n",
        "plt.show()"
      ],
      "metadata": {
        "id": "3gQIrBTjLIet",
        "colab": {
          "base_uri": "https://localhost:8080/",
          "height": 387
        },
        "outputId": "8945ce3a-70b4-4de5-d289-82f363ff0c87"
      },
      "execution_count": 37,
      "outputs": [
        {
          "output_type": "display_data",
          "data": {
            "text/plain": [
              "<Figure size 720x432 with 1 Axes>"
            ],
            "image/png": "[encoded data removed]"
          },
          "metadata": {
            "needs_background": "light"
          }
        }
      ]
    },
    {
      "cell_type": "code",
      "source": [
        "\n",
        "sns.displot(data=data, x='avg_speed', height=7,aspect=1)\n",
        "plt.show()"
      ],
      "metadata": {
        "id": "E9swcB8lLIbb",
        "colab": {
          "base_uri": "https://localhost:8080/",
          "height": 512
        },
        "outputId": "a501d70e-c744-44ae-bf05-19155a57db1c"
      },
      "execution_count": 38,
      "outputs": [
        {
          "output_type": "display_data",
          "data": {
            "text/plain": [
              "<Figure size 504x504 with 1 Axes>"
            ],
            "image/png": "[encoded data removed]"
          },
          "metadata": {
            "needs_background": "light"
          }
        }
      ]
    },
    {
      "cell_type": "code",
      "source": [
        "print(f\"Skew coefficient is {data['avg_speed'].skew()}\")"
      ],
      "metadata": {
        "id": "jKPZwriGLIX0",
        "colab": {
          "base_uri": "https://localhost:8080/"
        },
        "outputId": "48de5fc4-a8aa-400a-8a3d-61b0f39d4b25"
      },
      "execution_count": 39,
      "outputs": [
        {
          "output_type": "stream",
          "name": "stdout",
          "text": [
            "Skew coefficient is 314.15810855999814\n"
          ]
        }
      ]
    },
    {
      "cell_type": "code",
      "source": [
        "speed_log_skew = np.log(data[\"avg_speed\"]).skew()\n",
        "print(f\" Skew coefficient went from {data['avg_speed'].skew()} to {speed_log_skew}\")"
      ],
      "metadata": {
        "id": "rpFTdjiQLIUs",
        "colab": {
          "base_uri": "https://localhost:8080/"
        },
        "outputId": "d71b1c6a-d528-4fd0-ff78-920047144047"
      },
      "execution_count": 40,
      "outputs": [
        {
          "output_type": "stream",
          "name": "stdout",
          "text": [
            " Skew coefficient went from 314.15810855999814 to nan\n"
          ]
        },
        {
          "output_type": "stream",
          "name": "stderr",
          "text": [
            "/usr/local/lib/python3.7/dist-packages/pandas/core/arraylike.py:364: RuntimeWarning: divide by zero encountered in log\n",
            "  result = getattr(ufunc, method)(*inputs, **kwargs)\n"
          ]
        }
      ]
    },
    {
      "cell_type": "markdown",
      "source": [
        "## column 14 and 15: pickup_weekday and drop off weekday\n"
      ],
      "metadata": {
        "id": "Yar2FLv_Lg3j"
      }
    },
    {
      "cell_type": "code",
      "source": [
        "sns.countplot(data=data, x='pickup_weekday')\n",
        "plt.ylabel('Number of trip')\n",
        "plt.xlabel('Weekday')\n",
        "plt.title('Number of pickup per day')\n",
        "plt.show()"
      ],
      "metadata": {
        "id": "HPWpaYSALhlh",
        "colab": {
          "base_uri": "https://localhost:8080/",
          "height": 403
        },
        "outputId": "7c962dbe-2658-42dc-fd1c-1fe6b2cbb07d"
      },
      "execution_count": 41,
      "outputs": [
        {
          "output_type": "display_data",
          "data": {
            "text/plain": [
              "<Figure size 720x432 with 1 Axes>"
            ],
            "image/png": "[encoded data removed]"
          },
          "metadata": {
            "needs_background": "light"
          }
        }
      ]
    },
    {
      "cell_type": "markdown",
      "source": [
        "number of trips not much of changed in different days.\n"
      ],
      "metadata": {
        "id": "M41aGkjNLm7K"
      }
    },
    {
      "cell_type": "code",
      "source": [
        "sns.countplot(data=data, x='dropoff_weekday')\n",
        "plt.ylabel('Number of trip')\n",
        "plt.xlabel('Weekday')\n",
        "plt.title('Number of dropoff per day')\n",
        "plt.show()"
      ],
      "metadata": {
        "id": "pEYI0eumAOcc",
        "colab": {
          "base_uri": "https://localhost:8080/",
          "height": 403
        },
        "outputId": "f2d0a7eb-d663-417b-e3da-c0c807d3a1cc"
      },
      "execution_count": 42,
      "outputs": [
        {
          "output_type": "display_data",
          "data": {
            "text/plain": [
              "<Figure size 720x432 with 1 Axes>"
            ],
            "image/png": "[encoded data removed]"
          },
          "metadata": {
            "needs_background": "light"
          }
        }
      ]
    },
    {
      "cell_type": "markdown",
      "source": [
        "## column 16: pick up hour"
      ],
      "metadata": {
        "id": "-GcyBYvuYxIl"
      }
    },
    {
      "cell_type": "code",
      "source": [
        "sns.countplot(data=data, x='pickup_hour')\n",
        "plt.ylabel('Number of trip')\n",
        "plt.xlabel('Hour')\n",
        "plt.title('Number of pickup per hour')\n",
        "plt.show()"
      ],
      "metadata": {
        "id": "-rt6FBPNAOZY",
        "colab": {
          "base_uri": "https://localhost:8080/",
          "height": 403
        },
        "outputId": "2a73783a-9379-46ae-e54e-66f7c03e9e4d"
      },
      "execution_count": 43,
      "outputs": [
        {
          "output_type": "display_data",
          "data": {
            "text/plain": [
              "<Figure size 720x432 with 1 Axes>"
            ],
            "image/png": "[encoded data removed]"
          },
          "metadata": {
            "needs_background": "light"
          }
        }
      ]
    },
    {
      "cell_type": "markdown",
      "source": [
        "most number of taxi booked in evening session."
      ],
      "metadata": {
        "id": "aw_bRGZaY542"
      }
    },
    {
      "cell_type": "markdown",
      "source": [
        "## column 17: month"
      ],
      "metadata": {
        "id": "iK58XVxmY-AG"
      }
    },
    {
      "cell_type": "code",
      "source": [
        "sns.countplot(data=data, x='month')\n",
        "plt.ylabel('Number of trip')\n",
        "plt.xlabel('Month')\n",
        "plt.title('Number of trip per month')\n",
        "plt.show()"
      ],
      "metadata": {
        "id": "5agrKsKPAOSR",
        "colab": {
          "base_uri": "https://localhost:8080/",
          "height": 403
        },
        "outputId": "0677533d-055f-4a9a-c91d-f93aaf42d89a"
      },
      "execution_count": 44,
      "outputs": [
        {
          "output_type": "display_data",
          "data": {
            "text/plain": [
              "<Figure size 720x432 with 1 Axes>"
            ],
            "image/png": "[encoded data removed]"
          },
          "metadata": {
            "needs_background": "light"
          }
        }
      ]
    },
    {
      "cell_type": "code",
      "source": [
        "data.month.value_counts()"
      ],
      "metadata": {
        "id": "jgrX1dShAOO4",
        "colab": {
          "base_uri": "https://localhost:8080/"
        },
        "outputId": "72349350-d221-4fd5-aee7-a507d92bfdd2"
      },
      "execution_count": 45,
      "outputs": [
        {
          "output_type": "execute_result",
          "data": {
            "text/plain": [
              "3    256189\n",
              "4    251645\n",
              "5    248487\n",
              "2    238300\n",
              "6    234316\n",
              "1    229707\n",
              "Name: month, dtype: int64"
            ]
          },
          "metadata": {},
          "execution_count": 45
        }
      ]
    },
    {
      "cell_type": "markdown",
      "source": [
        "##column 18: pick up time of day"
      ],
      "metadata": {
        "id": "FhpE_54-ZIu6"
      }
    },
    {
      "cell_type": "code",
      "source": [
        "# bar plot for pickup time of a day\n",
        "sns.countplot(data=data, x=\"pickup_timeofday\")\n",
        "plt.xlabel(\"Time of day\")\n",
        "plt.ylabel(\"Number of trip\")\n",
        "plt.title(\"Number of peakup's at time of day\")\n",
        "plt.show()\n"
      ],
      "metadata": {
        "id": "rqLI74WpZIB6",
        "colab": {
          "base_uri": "https://localhost:8080/",
          "height": 403
        },
        "outputId": "2a65a9c0-8cb2-445b-8106-495b67a9b118"
      },
      "execution_count": 46,
      "outputs": [
        {
          "output_type": "display_data",
          "data": {
            "text/plain": [
              "<Figure size 720x432 with 1 Axes>"
            ],
            "image/png": "[encoded data removed]"
          },
          "metadata": {
            "needs_background": "light"
          }
        }
      ]
    },
    {
      "cell_type": "markdown",
      "source": [
        "# Bivariate Analysis"
      ],
      "metadata": {
        "id": "iv7W35NaZTMu"
      }
    },
    {
      "cell_type": "markdown",
      "source": [
        "### Trip Duration Vs Vendor"
      ],
      "metadata": {
        "id": "_2mm3VYeZYlc"
      }
    },
    {
      "cell_type": "code",
      "source": [
        "sns.set_style(style='whitegrid')\n",
        "plt.figure(figsize = (7,5))\n",
        "sns.barplot(data.vendor_id,data.trip_duration)\n",
        "plt.xlabel('Vendor ID')\n",
        "plt.ylabel('Trip Duration')\n",
        "plt.show()"
      ],
      "metadata": {
        "id": "4xKOwn8xZNuT",
        "colab": {
          "base_uri": "https://localhost:8080/",
          "height": 388
        },
        "outputId": "ed3ae6d7-5137-45b2-d8a3-7bfdbe422af1"
      },
      "execution_count": 47,
      "outputs": [
        {
          "output_type": "stream",
          "name": "stderr",
          "text": [
            "/usr/local/lib/python3.7/dist-packages/seaborn/_decorators.py:43: FutureWarning: Pass the following variables as keyword args: x, y. From version 0.12, the only valid positional argument will be `data`, and passing other arguments without an explicit keyword will result in an error or misinterpretation.\n",
            "  FutureWarning\n"
          ]
        },
        {
          "output_type": "display_data",
          "data": {
            "text/plain": [
              "<Figure size 504x360 with 1 Axes>"
            ],
            "image/png": "[encoded data removed]"
          },
          "metadata": {}
        }
      ]
    },
    {
      "cell_type": "markdown",
      "source": [
        "* Seems like there is not much difference between Vendoe_ID type 1 and Vendor_ID type 2."
      ],
      "metadata": {
        "id": "y4bAeEp8Zj-B"
      }
    },
    {
      "cell_type": "markdown",
      "source": [
        "### Trip Duration Vs Store and Forward Flag"
      ],
      "metadata": {
        "id": "QGiFljB3ZnW1"
      }
    },
    {
      "cell_type": "code",
      "source": [
        "plt.figure(figsize = (10,5))\n",
        "sns.set_style(style='white')\n",
        "sns.barplot(x=data.store_and_fwd_flag, y=data.trip_duration)\n",
        "plt.xlabel('Store and Forward Flag')\n",
        "plt.ylabel('Duration (seconds)')\n",
        "plt.show()"
      ],
      "metadata": {
        "id": "9xRjuG6OZfPk",
        "colab": {
          "base_uri": "https://localhost:8080/",
          "height": 333
        },
        "outputId": "b85da8b3-23ce-47b8-97c3-e6c290358626"
      },
      "execution_count": 48,
      "outputs": [
        {
          "output_type": "display_data",
          "data": {
            "text/plain": [
              "<Figure size 720x360 with 1 Axes>"
            ],
            "image/png": "[encoded data removed]"
          },
          "metadata": {}
        }
      ]
    },
    {
      "cell_type": "markdown",
      "source": [
        "* Y type Store and Forward Flag are relatively taking longer trip duration.\n",
        "* Also we found that from univariate analysis only 1% data is having Y type Store and Forward Flag"
      ],
      "metadata": {
        "id": "9mXB9IfXZsls"
      }
    },
    {
      "cell_type": "markdown",
      "source": [
        "### Trip Duration Vs Pickup Time"
      ],
      "metadata": {
        "id": "2gOrz-zwZwBE"
      }
    },
    {
      "cell_type": "code",
      "source": [
        "fig, axes = plt.subplots(1, 2, figsize=(15, 5), sharey=True)\n",
        "fig.suptitle('Trip Duration Vs Pickup Time')\n",
        "\n",
        "sns.barplot(ax=axes[0], x='pickup_hour',y='trip_duration',data=data)\n",
        "axes[0].set_title('Bar graph')\n",
        "\n",
        "sns.lineplot(ax=axes[1], x='pickup_hour',y='trip_duration',data=data)\n",
        "axes[1].set_title('Line Plot')"
      ],
      "metadata": {
        "id": "TkevSGYjZe2O",
        "colab": {
          "base_uri": "https://localhost:8080/",
          "height": 388
        },
        "outputId": "27824700-c66b-4659-ed85-646e0c0e9eb7"
      },
      "execution_count": 49,
      "outputs": [
        {
          "output_type": "execute_result",
          "data": {
            "text/plain": [
              "Text(0.5, 1.0, 'Line Plot')"
            ]
          },
          "metadata": {},
          "execution_count": 49
        },
        {
          "output_type": "display_data",
          "data": {
            "text/plain": [
              "<Figure size 1080x360 with 2 Axes>"
            ],
            "image/png": "[encoded data removed]"
          },
          "metadata": {}
        }
      ]
    },
    {
      "cell_type": "markdown",
      "source": [
        "*   We see the trip duration is the maximum around 1 pm to 4 pm.\n",
        "*   Trip duration is the lowest in morning aroud 6 am"
      ],
      "metadata": {
        "id": "KaLCqHPxZ2Wu"
      }
    },
    {
      "cell_type": "markdown",
      "source": [
        "### Trip Duration Vs Weekday"
      ],
      "metadata": {
        "id": "EXgRY8FrZ7FT"
      }
    },
    {
      "cell_type": "code",
      "source": [
        "plt.figure(figsize = (10,5))\n",
        "sns.barplot(x='pickup_weekday',y='trip_duration',data=data)\n",
        "plt.ylabel('Duration (seconds)')\n",
        "plt.xlabel('')\n",
        "plt.show()"
      ],
      "metadata": {
        "id": "UCqBH2VwZz05",
        "colab": {
          "base_uri": "https://localhost:8080/",
          "height": 320
        },
        "outputId": "069c595a-bfe0-4602-8cdf-e1b86e660996"
      },
      "execution_count": 50,
      "outputs": [
        {
          "output_type": "display_data",
          "data": {
            "text/plain": [
              "<Figure size 720x360 with 1 Axes>"
            ],
            "image/png": "[encoded data removed]"
          },
          "metadata": {}
        }
      ]
    },
    {
      "cell_type": "markdown",
      "source": [
        "*   Trip duration on Wednesday is longest among all days."
      ],
      "metadata": {
        "id": "KarB3rO0Z_yJ"
      }
    },
    {
      "cell_type": "markdown",
      "source": [
        "### Trip Duration Vs Month"
      ],
      "metadata": {
        "id": "8cTpGJ4dZ_pb"
      }
    },
    {
      "cell_type": "code",
      "source": [
        "plt.figure(figsize = (10,5))\n",
        "sns.barplot(x='month',y='trip_duration', data=data)\n",
        "plt.ylabel('Duration (seconds)')\n",
        "plt.xlabel('Month of Trip ')\n",
        "plt.show()"
      ],
      "metadata": {
        "id": "mSKF-kbmaHRq",
        "colab": {
          "base_uri": "https://localhost:8080/",
          "height": 333
        },
        "outputId": "3bfe4a08-0b5d-4fe2-dae0-d1e20d76c0e5"
      },
      "execution_count": 51,
      "outputs": [
        {
          "output_type": "display_data",
          "data": {
            "text/plain": [
              "<Figure size 720x360 with 1 Axes>"
            ],
            "image/png": "[encoded data removed]"
          },
          "metadata": {}
        }
      ]
    },
    {
      "cell_type": "markdown",
      "source": [
        "* Trip duration gradually increasing from Jan to June"
      ],
      "metadata": {
        "id": "I0v8StoIaN8N"
      }
    },
    {
      "cell_type": "markdown",
      "source": [
        "### Trip Duration Vs Distance"
      ],
      "metadata": {
        "id": "5HiczuX6aOzW"
      }
    },
    {
      "cell_type": "code",
      "source": [
        "fig, axes = plt.subplots(1, 2, figsize=(10, 5), sharey=True)\n",
        "fig.suptitle('Trip Duration Vs Distance')\n",
        "\n",
        "sns.barplot(ax=axes[0], x=data.distance.groupby(pd.cut(data.distance,np.arange(0,60,10))).mean().round(),y='trip_duration'\n",
        "                                                       ,data=data,ci=None)\n",
        "axes[0].set_title('Bar graph')\n",
        "\n",
        "sns.regplot(ax=axes[1],\n",
        "            x='distance',\n",
        "            y='trip_duration',\n",
        "            data=data)\n",
        "axes[1].set_title('Scatter plot')"
      ],
      "metadata": {
        "id": "fPPecmyhaHVE",
        "colab": {
          "base_uri": "https://localhost:8080/",
          "height": 387
        },
        "outputId": "afb087ae-9ebd-4180-90ae-a57a53d575fc"
      },
      "execution_count": 52,
      "outputs": [
        {
          "output_type": "execute_result",
          "data": {
            "text/plain": [
              "Text(0.5, 1.0, 'Scatter plot')"
            ]
          },
          "metadata": {},
          "execution_count": 52
        },
        {
          "output_type": "display_data",
          "data": {
            "text/plain": [
              "<Figure size 720x360 with 2 Axes>"
            ],
            "image/png": "[encoded data removed]"
          },
          "metadata": {}
        }
      ]
    },
    {
      "cell_type": "markdown",
      "source": [
        "* As the distance increases the trip time also increasing"
      ],
      "metadata": {
        "id": "f-rxBcCqabVn"
      }
    },
    {
      "cell_type": "markdown",
      "source": [
        "### Distance Vs Hour"
      ],
      "metadata": {
        "id": "jmWr0Ed9ag-n"
      }
    },
    {
      "cell_type": "code",
      "source": [
        "plt.figure(figsize = (10,5))\n",
        "sns.lineplot(y='distance',x='pickup_hour',data=data)\n",
        "plt.ylabel('Distance')\n",
        "plt.xlabel('Pickup Hour')\n",
        "plt.show()"
      ],
      "metadata": {
        "id": "TpSiQ6TKaV-c",
        "colab": {
          "base_uri": "https://localhost:8080/",
          "height": 333
        },
        "outputId": "6bb047dc-d9d3-4335-abcf-f8af5b498c4d"
      },
      "execution_count": 53,
      "outputs": [
        {
          "output_type": "display_data",
          "data": {
            "text/plain": [
              "<Figure size 720x360 with 1 Axes>"
            ],
            "image/png": "[encoded data removed]"
          },
          "metadata": {}
        }
      ]
    },
    {
      "cell_type": "markdown",
      "source": [
        "*   Trip distance is highest during early morning hours.\n",
        "*   From 8 am to night 8 pm distance people are riding short distance trips in the range of 3 - 4 kms.\n",
        "\n"
      ],
      "metadata": {
        "id": "w7rjhHrrarjN"
      }
    },
    {
      "cell_type": "markdown",
      "source": [
        "### Distance vs Weekday"
      ],
      "metadata": {
        "id": "MDOzqFA2avYu"
      }
    },
    {
      "cell_type": "code",
      "source": [
        "plt.figure(figsize = (10,5))\n",
        "sns.barplot(x='pickup_weekday', y='distance',data=data)\n",
        "plt.ylabel('Distance')\n",
        "plt.xlabel('')\n",
        "plt.show()"
      ],
      "metadata": {
        "id": "23y2gcVHasSC",
        "colab": {
          "base_uri": "https://localhost:8080/",
          "height": 320
        },
        "outputId": "4498420d-7602-403c-8732-0f4ccca758ee"
      },
      "execution_count": 54,
      "outputs": [
        {
          "output_type": "display_data",
          "data": {
            "text/plain": [
              "<Figure size 720x360 with 1 Axes>"
            ],
            "image/png": "[encoded data removed]"
          },
          "metadata": {}
        }
      ]
    },
    {
      "cell_type": "markdown",
      "source": [
        " Sunday being at the top may be due to outstation trips"
      ],
      "metadata": {
        "id": "X9zk-mEoa8go"
      }
    },
    {
      "cell_type": "markdown",
      "source": [
        "### Distance Vs Month"
      ],
      "metadata": {
        "id": "UOtv5-OJa_JM"
      }
    },
    {
      "cell_type": "code",
      "source": [
        "plt.figure(figsize = (10,5))\n",
        "sns.barplot(x='month', y='distance',data=data)\n",
        "plt.ylabel('Distance')\n",
        "plt.xlabel('Month of trip')\n",
        "plt.show()"
      ],
      "metadata": {
        "id": "IXIZdghtax1_",
        "colab": {
          "base_uri": "https://localhost:8080/",
          "height": 333
        },
        "outputId": "c2443d31-594a-4444-e3b5-5ed089866940"
      },
      "execution_count": 55,
      "outputs": [
        {
          "output_type": "display_data",
          "data": {
            "text/plain": [
              "<Figure size 720x360 with 1 Axes>"
            ],
            "image/png": "[encoded data removed]"
          },
          "metadata": {}
        }
      ]
    },
    {
      "cell_type": "markdown",
      "source": [
        "* There is not much differece in distance travelled in each month"
      ],
      "metadata": {
        "id": "MztE3cwsbD0Z"
      }
    },
    {
      "cell_type": "code",
      "source": [
        "data.info()"
      ],
      "metadata": {
        "id": "TMcguQ4MbEwF",
        "colab": {
          "base_uri": "https://localhost:8080/"
        },
        "outputId": "1b2f318a-7f5e-4a5f-b175-2b6000c4f28b"
      },
      "execution_count": 56,
      "outputs": [
        {
          "output_type": "stream",
          "name": "stdout",
          "text": [
            "<class 'pandas.core.frame.DataFrame'>\n",
            "RangeIndex: 1458644 entries, 0 to 1458643\n",
            "Data columns (total 19 columns):\n",
            " #   Column              Non-Null Count    Dtype         \n",
            "---  ------              --------------    -----         \n",
            " 0   id                  1458644 non-null  object        \n",
            " 1   vendor_id           1458644 non-null  int64         \n",
            " 2   pickup_datetime     1458644 non-null  datetime64[ns]\n",
            " 3   dropoff_datetime    1458644 non-null  datetime64[ns]\n",
            " 4   passenger_count     1458644 non-null  int64         \n",
            " 5   pickup_longitude    1458644 non-null  float64       \n",
            " 6   pickup_latitude     1458644 non-null  float64       \n",
            " 7   dropoff_longitude   1458644 non-null  float64       \n",
            " 8   dropoff_latitude    1458644 non-null  float64       \n",
            " 9   store_and_fwd_flag  1458644 non-null  object        \n",
            " 10  trip_duration       1458644 non-null  int64         \n",
            " 11  distance            1458644 non-null  float64       \n",
            " 12  avg_speed           1458644 non-null  float64       \n",
            " 13  pickup_weekday      1458644 non-null  object        \n",
            " 14  dropoff_weekday     1458644 non-null  object        \n",
            " 15  pickup_weekday_num  1458644 non-null  int64         \n",
            " 16  pickup_hour         1458644 non-null  int64         \n",
            " 17  month               1458644 non-null  int64         \n",
            " 18  pickup_timeofday    1458644 non-null  object        \n",
            "dtypes: datetime64[ns](2), float64(6), int64(6), object(5)\n",
            "memory usage: 211.4+ MB\n"
          ]
        }
      ]
    },
    {
      "cell_type": "markdown",
      "source": [
        "# **feature Enginerring** <br>"
      ],
      "metadata": {
        "id": "IFBkWjvubNAY"
      }
    },
    {
      "cell_type": "markdown",
      "source": [
        "## **Data cleaing and wrangling**"
      ],
      "metadata": {
        "id": "iaAdPxiMbRc7"
      }
    },
    {
      "cell_type": "code",
      "source": [
        "data.head()"
      ],
      "metadata": {
        "id": "Ok0I2FcJbJbF",
        "colab": {
          "base_uri": "https://localhost:8080/",
          "height": 357
        },
        "outputId": "04f681f2-67ce-4320-bef6-b01595f24437"
      },
      "execution_count": 57,
      "outputs": [
        {
          "output_type": "execute_result",
          "data": {
            "text/plain": [
              "          id  vendor_id     pickup_datetime    dropoff_datetime  \\\n",
              "0  id2875421          2 2016-03-14 17:24:55 2016-03-14 17:32:30   \n",
              "1  id2377394          1 2016-06-12 00:43:35 2016-06-12 00:54:38   \n",
              "2  id3858529          2 2016-01-19 11:35:24 2016-01-19 12:10:48   \n",
              "3  id3504673          2 2016-04-06 19:32:31 2016-04-06 19:39:40   \n",
              "4  id2181028          2 2016-03-26 13:30:55 2016-03-26 13:38:10   \n",
              "\n",
              "   passenger_count  pickup_longitude  pickup_latitude  dropoff_longitude  \\\n",
              "0                1        -73.982155        40.767937         -73.964630   \n",
              "1                1        -73.980415        40.738564         -73.999481   \n",
              "2                1        -73.979027        40.763939         -74.005333   \n",
              "3                1        -74.010040        40.719971         -74.012268   \n",
              "4                1        -73.973053        40.793209         -73.972923   \n",
              "\n",
              "   dropoff_latitude store_and_fwd_flag  trip_duration  distance  avg_speed  \\\n",
              "0         40.765602                  N            455  1.498523  11.856445   \n",
              "1         40.731152                  N            663  1.805510   9.803673   \n",
              "2         40.710087                  N           2124  6.385108  10.822216   \n",
              "3         40.706718                  N            429  1.485501  12.465739   \n",
              "4         40.782520                  N            435  1.188590   9.836608   \n",
              "\n",
              "  pickup_weekday dropoff_weekday  pickup_weekday_num  pickup_hour  month  \\\n",
              "0         Monday          Monday                   0           17      3   \n",
              "1         Sunday          Sunday                   6            0      6   \n",
              "2        Tuesday         Tuesday                   1           11      1   \n",
              "3      Wednesday       Wednesday                   2           19      4   \n",
              "4       Saturday        Saturday                   5           13      3   \n",
              "\n",
              "  pickup_timeofday  \n",
              "0          Evening  \n",
              "1       Late night  \n",
              "2          Morning  \n",
              "3          Evening  \n",
              "4        Afternoon  "
            ],
            "text/html": [
              "\n",
              "  <div id=\"df-520791d1-7cc3-4995-8d39-3782aa16c52d\">\n",
              "    <div class=\"colab-df-container\">\n",
              "      <div>\n",
              "<style scoped>\n",
              "    .dataframe tbody tr th:only-of-type {\n",
              "        vertical-align: middle;\n",
              "    }\n",
              "\n",
              "    .dataframe tbody tr th {\n",
              "        vertical-align: top;\n",
              "    }\n",
              "\n",
              "    .dataframe thead th {\n",
              "        text-align: right;\n",
              "    }\n",
              "</style>\n",
              "<table border=\"1\" class=\"dataframe\">\n",
              "  <thead>\n",
              "    <tr style=\"text-align: right;\">\n",
              "      <th></th>\n",
              "      <th>id</th>\n",
              "      <th>vendor_id</th>\n",
              "      <th>pickup_datetime</th>\n",
              "      <th>dropoff_datetime</th>\n",
              "      <th>passenger_count</th>\n",
              "      <th>pickup_longitude</th>\n",
              "      <th>pickup_latitude</th>\n",
              "      <th>dropoff_longitude</th>\n",
              "      <th>dropoff_latitude</th>\n",
              "      <th>store_and_fwd_flag</th>\n",
              "      <th>trip_duration</th>\n",
              "      <th>distance</th>\n",
              "      <th>avg_speed</th>\n",
              "      <th>pickup_weekday</th>\n",
              "      <th>dropoff_weekday</th>\n",
              "      <th>pickup_weekday_num</th>\n",
              "      <th>pickup_hour</th>\n",
              "      <th>month</th>\n",
              "      <th>pickup_timeofday</th>\n",
              "    </tr>\n",
              "  </thead>\n",
              "  <tbody>\n",
              "    <tr>\n",
              "      <th>0</th>\n",
              "      <td>id2875421</td>\n",
              "      <td>2</td>\n",
              "      <td>2016-03-14 17:24:55</td>\n",
              "      <td>2016-03-14 17:32:30</td>\n",
              "      <td>1</td>\n",
              "      <td>-73.982155</td>\n",
              "      <td>40.767937</td>\n",
              "      <td>-73.964630</td>\n",
              "      <td>40.765602</td>\n",
              "      <td>N</td>\n",
              "      <td>455</td>\n",
              "      <td>1.498523</td>\n",
              "      <td>11.856445</td>\n",
              "      <td>Monday</td>\n",
              "      <td>Monday</td>\n",
              "      <td>0</td>\n",
              "      <td>17</td>\n",
              "      <td>3</td>\n",
              "      <td>Evening</td>\n",
              "    </tr>\n",
              "    <tr>\n",
              "      <th>1</th>\n",
              "      <td>id2377394</td>\n",
              "      <td>1</td>\n",
              "      <td>2016-06-12 00:43:35</td>\n",
              "      <td>2016-06-12 00:54:38</td>\n",
              "      <td>1</td>\n",
              "      <td>-73.980415</td>\n",
              "      <td>40.738564</td>\n",
              "      <td>-73.999481</td>\n",
              "      <td>40.731152</td>\n",
              "      <td>N</td>\n",
              "      <td>663</td>\n",
              "      <td>1.805510</td>\n",
              "      <td>9.803673</td>\n",
              "      <td>Sunday</td>\n",
              "      <td>Sunday</td>\n",
              "      <td>6</td>\n",
              "      <td>0</td>\n",
              "      <td>6</td>\n",
              "      <td>Late night</td>\n",
              "    </tr>\n",
              "    <tr>\n",
              "      <th>2</th>\n",
              "      <td>id3858529</td>\n",
              "      <td>2</td>\n",
              "      <td>2016-01-19 11:35:24</td>\n",
              "      <td>2016-01-19 12:10:48</td>\n",
              "      <td>1</td>\n",
              "      <td>-73.979027</td>\n",
              "      <td>40.763939</td>\n",
              "      <td>-74.005333</td>\n",
              "      <td>40.710087</td>\n",
              "      <td>N</td>\n",
              "      <td>2124</td>\n",
              "      <td>6.385108</td>\n",
              "      <td>10.822216</td>\n",
              "      <td>Tuesday</td>\n",
              "      <td>Tuesday</td>\n",
              "      <td>1</td>\n",
              "      <td>11</td>\n",
              "      <td>1</td>\n",
              "      <td>Morning</td>\n",
              "    </tr>\n",
              "    <tr>\n",
              "      <th>3</th>\n",
              "      <td>id3504673</td>\n",
              "      <td>2</td>\n",
              "      <td>2016-04-06 19:32:31</td>\n",
              "      <td>2016-04-06 19:39:40</td>\n",
              "      <td>1</td>\n",
              "      <td>-74.010040</td>\n",
              "      <td>40.719971</td>\n",
              "      <td>-74.012268</td>\n",
              "      <td>40.706718</td>\n",
              "      <td>N</td>\n",
              "      <td>429</td>\n",
              "      <td>1.485501</td>\n",
              "      <td>12.465739</td>\n",
              "      <td>Wednesday</td>\n",
              "      <td>Wednesday</td>\n",
              "      <td>2</td>\n",
              "      <td>19</td>\n",
              "      <td>4</td>\n",
              "      <td>Evening</td>\n",
              "    </tr>\n",
              "    <tr>\n",
              "      <th>4</th>\n",
              "      <td>id2181028</td>\n",
              "      <td>2</td>\n",
              "      <td>2016-03-26 13:30:55</td>\n",
              "      <td>2016-03-26 13:38:10</td>\n",
              "      <td>1</td>\n",
              "      <td>-73.973053</td>\n",
              "      <td>40.793209</td>\n",
              "      <td>-73.972923</td>\n",
              "      <td>40.782520</td>\n",
              "      <td>N</td>\n",
              "      <td>435</td>\n",
              "      <td>1.188590</td>\n",
              "      <td>9.836608</td>\n",
              "      <td>Saturday</td>\n",
              "      <td>Saturday</td>\n",
              "      <td>5</td>\n",
              "      <td>13</td>\n",
              "      <td>3</td>\n",
              "      <td>Afternoon</td>\n",
              "    </tr>\n",
              "  </tbody>\n",
              "</table>\n",
              "</div>\n",
              "      <button class=\"colab-df-convert\" onclick=\"convertToInteractive('df-520791d1-7cc3-4995-8d39-3782aa16c52d')\"\n",
              "              title=\"Convert this dataframe to an interactive table.\"\n",
              "              style=\"display:none;\">\n",
              "        \n",
              "  <svg xmlns=\"http://www.w3.org/2000/svg\" height=\"24px\"viewBox=\"0 0 24 24\"\n",
              "       width=\"24px\">\n",
              "    <path d=\"M0 0h24v24H0V0z\" fill=\"none\"/>\n",
              "    <path d=\"M18.56 5.44l.94 2.06.94-2.06 2.06-.94-2.06-.94-.94-2.06-.94 2.06-2.06.94zm-11 1L8.5 8.5l.94-2.06 2.06-.94-2.06-.94L8.5 2.5l-.94 2.06-2.06.94zm10 10l.94 2.06.94-2.06 2.06-.94-2.06-.94-.94-2.06-.94 2.06-2.06.94z\"/><path d=\"M17.41 7.96l-1.37-1.37c-.4-.4-.92-.59-1.43-.59-.52 0-1.04.2-1.43.59L10.3 9.45l-7.72 7.72c-.78.78-.78 2.05 0 2.83L4 21.41c.39.39.9.59 1.41.59.51 0 1.02-.2 1.41-.59l7.78-7.78 2.81-2.81c.8-.78.8-2.07 0-2.86zM5.41 20L4 18.59l7.72-7.72 1.47 1.35L5.41 20z\"/>\n",
              "  </svg>\n",
              "      </button>\n",
              "      \n",
              "  <style>\n",
              "    .colab-df-container {\n",
              "      display:flex;\n",
              "      flex-wrap:wrap;\n",
              "      gap: 12px;\n",
              "    }\n",
              "\n",
              "    .colab-df-convert {\n",
              "      background-color: #E8F0FE;\n",
              "      border: none;\n",
              "      border-radius: 50%;\n",
              "      cursor: pointer;\n",
              "      display: none;\n",
              "      fill: #1967D2;\n",
              "      height: 32px;\n",
              "      padding: 0 0 0 0;\n",
              "      width: 32px;\n",
              "    }\n",
              "\n",
              "    .colab-df-convert:hover {\n",
              "      background-color: #E2EBFA;\n",
              "      box-shadow: 0px 1px 2px rgba(60, 64, 67, 0.3), 0px 1px 3px 1px rgba(60, 64, 67, 0.15);\n",
              "      fill: #174EA6;\n",
              "    }\n",
              "\n",
              "    [theme=dark] .colab-df-convert {\n",
              "      background-color: #3B4455;\n",
              "      fill: #D2E3FC;\n",
              "    }\n",
              "\n",
              "    [theme=dark] .colab-df-convert:hover {\n",
              "      background-color: #434B5C;\n",
              "      box-shadow: 0px 1px 3px 1px rgba(0, 0, 0, 0.15);\n",
              "      filter: drop-shadow(0px 1px 2px rgba(0, 0, 0, 0.3));\n",
              "      fill: #FFFFFF;\n",
              "    }\n",
              "  </style>\n",
              "\n",
              "      <script>\n",
              "        const buttonEl =\n",
              "          document.querySelector('#df-520791d1-7cc3-4995-8d39-3782aa16c52d button.colab-df-convert');\n",
              "        buttonEl.style.display =\n",
              "          google.colab.kernel.accessAllowed ? 'block' : 'none';\n",
              "\n",
              "        async function convertToInteractive(key) {\n",
              "          const element = document.querySelector('#df-520791d1-7cc3-4995-8d39-3782aa16c52d');\n",
              "          const dataTable =\n",
              "            await google.colab.kernel.invokeFunction('convertToInteractive',\n",
              "                                                     [key], {});\n",
              "          if (!dataTable) return;\n",
              "\n",
              "          const docLinkHtml = 'Like what you see? Visit the ' +\n",
              "            '<a target=\"_blank\" href=https://colab.research.google.com/notebooks/data_table.ipynb>data table notebook</a>'\n",
              "            + ' to learn more about interactive tables.';\n",
              "          element.innerHTML = '';\n",
              "          dataTable['output_type'] = 'display_data';\n",
              "          await google.colab.output.renderOutput(dataTable, element);\n",
              "          const docLink = document.createElement('div');\n",
              "          docLink.innerHTML = docLinkHtml;\n",
              "          element.appendChild(docLink);\n",
              "        }\n",
              "      </script>\n",
              "    </div>\n",
              "  </div>\n",
              "  "
            ]
          },
          "metadata": {},
          "execution_count": 57
        }
      ]
    },
    {
      "cell_type": "code",
      "source": [
        ""
      ],
      "metadata": {
        "id": "QBQbwNLTbUtO"
      },
      "execution_count": 57,
      "outputs": []
    }
  ]
}